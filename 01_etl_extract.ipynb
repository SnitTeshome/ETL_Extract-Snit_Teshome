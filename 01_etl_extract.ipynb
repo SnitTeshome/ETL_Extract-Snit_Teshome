{
  "cells": [
    {
      "cell_type": "markdown",
      "id": "7619bbc1-8d51-4e8a-9c47-6c5ba3a57e50",
      "metadata": {},
      "source": [
        "## *LAB 3  Practicing Extraction in ETL*"
      ]
    },
    {
      "cell_type": "markdown",
      "id": "f14d555a",
      "metadata": {},
      "source": [
        "### *Historical Description of the Car Sales Dataset*\n",
        "- *This dataset represents simulated used car sales data  used car sales data over two months (April–May 2025). It includes purchases by major automotive dealers, rental companies, and vehicle auction services such as AutoNation, CarMax, Enterprise Holdings, and Manheim.*\n",
        "\n",
        "- *The dataset features popular car brands like Toyota, Honda, Ford, Hyundai, and Chevrolet, with model years ranging from 2015 to 2023. It records key details such as vehicle age, mileage, price, and payment types, offering a realistic view of market diversity and buyer preferences.*\n"
      ]
    },
    {
      "cell_type": "markdown",
      "id": "0be4c8dd",
      "metadata": {},
      "source": [
        "#### *Key Attributes*\n",
        "\n",
        "*`Date of Sale:` The date on which the car transaction occurred, showing when the vehicle was purchased.*\n",
        "\n",
        "*`Dealer:` Represents the company or automotive group that sold or distributed the vehicle.*\n",
        "\n",
        "*`Car Make and Model:` Describes the manufacturer (e.g., Toyota, Ford) and specific model of the vehicle, indicating brand preference and market variety.*\n",
        "\n",
        "*`Manufacture Year:` Indicates the year the vehicle was made, providing context for its age and potential value depreciation.*\n",
        "\n",
        "*`Odometer Reading:` Shows the total distance the vehicle had traveled before the sale, an important factor influencing its condition and price.*\n",
        "\n",
        "*`Sale Price:` The amount (in USD) for which the vehicle was sold, indicating market demand and valuation.*\n",
        "\n",
        "*`Payment Method:` Specifies how the transaction was completed—via cash, credit, or loan—reflecting diverse financing choices.*\n",
        "\n",
        "*`Last Updated:` The timestamp of the most recent update to the record, helping track edits or corrections.*"
      ]
    },
    {
      "cell_type": "markdown",
      "id": "766fdecd",
      "metadata": {},
      "source": [
        "#### Import libraries"
      ]
    },
    {
      "cell_type": "code",
      "execution_count": 475,
      "id": "9824c9ea",
      "metadata": {},
      "outputs": [],
      "source": [
        "import pandas as pd\n",
        "import numpy as np\n",
        "from datetime import datetime, timedelta\n",
        "import random"
      ]
    },
    {
      "cell_type": "markdown",
      "id": "d1f24ce3-57f5-4c01-9c89-96ab6bf9dbeb",
      "metadata": {},
      "source": [
        "### `STEP 1: Generate synthetic data`"
      ]
    },
    {
      "cell_type": "code",
      "execution_count": 476,
      "id": "3c378bbc-6792-4bc0-bd9d-0de41813fb45",
      "metadata": {
        "trusted": true
      },
      "outputs": [],
      "source": [
        "# Generate Car Sales Dataset\n",
        "dealers = ['AutoNation', 'CarMax', 'Penske Automotive', 'Lithia Motors', 'Sonic Automotive', \n",
        "           'Enterprise Holdings', 'Hertz Global Holdings', 'Avis Budget Group', 'Manheim', 'Copart']\n",
        "\n",
        "car_inventory = {\n",
        "    'Toyota': ['Corolla', 'Camry', 'RAV4'],\n",
        "    'Honda': ['Civic', 'Accord', 'CR-V'],\n",
        "    'Ford': ['Focus', 'Fusion', 'Escape'],\n",
        "    'Hyundai': ['Elantra', 'Tucson', 'Santa Fe'],\n",
        "    'Chevrolet': ['Malibu', 'Cruze', 'Equinox']\n",
        "}\n",
        "\n",
        "payment_methods = ['Cash', 'Credit', 'Loan']\n",
        "\n",
        "sales_records = []\n",
        "start_date = datetime(2025, 4, 1)\n",
        "for day_offset in range(1, 61):\n",
        "    current_date = start_date + timedelta(days=day_offset)\n",
        "    for _ in range(random.randint(3, 6)):\n",
        "        make = random.choice(list(car_inventory.keys()))\n",
        "        model = random.choice(car_inventory[make])\n",
        "        manufacture_year = random.randint(2015, 2023)\n",
        "        odometer_reading = random.randint(10000, 120000)\n",
        "        sale_price = random.randint(5000, 25000)\n",
        "\n",
        "        # Introduce missing values with 10% chance each\n",
        "        customer = random.choice(dealers)\n",
        "        if random.random() < 0.10:\n",
        "            customer = None\n",
        "\n",
        "        mileage = odometer_reading\n",
        "        if random.random() < 0.10:\n",
        "            mileage = None\n",
        "\n",
        "        payment_type = random.choice(payment_methods)\n",
        "        if random.random() < 0.10:\n",
        "            payment_type = None\n",
        "\n",
        "        sales_records.append({\n",
        "            'id': random.randint(10000, 99999),\n",
        "            'customer': customer,\n",
        "            'date': current_date.date().isoformat(),\n",
        "            'car_make': make,\n",
        "            'car_model': model,\n",
        "            'year': manufacture_year,\n",
        "            'mileage': mileage,\n",
        "            'price': sale_price,\n",
        "            'payment_type': payment_type,\n",
        "            'last_updated': (current_date + timedelta(hours=random.randint(0, 23),\n",
        "                                                      minutes=random.randint(0, 59))).isoformat()\n",
        "        })\n"
      ]
    },
    {
      "cell_type": "markdown",
      "id": "e3f8bec1-2809-49f1-a589-649b67fb1e92",
      "metadata": {},
      "source": [
        "####  Create DataFrame"
      ]
    },
    {
      "cell_type": "code",
      "execution_count": 477,
      "id": "65fca598-ad72-4420-9661-2b70e5918042",
      "metadata": {
        "trusted": true
      },
      "outputs": [
        {
          "data": {
            "text/html": [
              "<div>\n",
              "<style scoped>\n",
              "    .dataframe tbody tr th:only-of-type {\n",
              "        vertical-align: middle;\n",
              "    }\n",
              "\n",
              "    .dataframe tbody tr th {\n",
              "        vertical-align: top;\n",
              "    }\n",
              "\n",
              "    .dataframe thead th {\n",
              "        text-align: right;\n",
              "    }\n",
              "</style>\n",
              "<table border=\"1\" class=\"dataframe\">\n",
              "  <thead>\n",
              "    <tr style=\"text-align: right;\">\n",
              "      <th></th>\n",
              "      <th>id</th>\n",
              "      <th>customer</th>\n",
              "      <th>date</th>\n",
              "      <th>car_make</th>\n",
              "      <th>car_model</th>\n",
              "      <th>year</th>\n",
              "      <th>mileage</th>\n",
              "      <th>price</th>\n",
              "      <th>payment_type</th>\n",
              "      <th>last_updated</th>\n",
              "    </tr>\n",
              "  </thead>\n",
              "  <tbody>\n",
              "    <tr>\n",
              "      <th>0</th>\n",
              "      <td>34711</td>\n",
              "      <td>CarMax</td>\n",
              "      <td>2025-04-02</td>\n",
              "      <td>Ford</td>\n",
              "      <td>Escape</td>\n",
              "      <td>2023</td>\n",
              "      <td>111613.0</td>\n",
              "      <td>5335</td>\n",
              "      <td>Cash</td>\n",
              "      <td>2025-04-02T16:56:00</td>\n",
              "    </tr>\n",
              "    <tr>\n",
              "      <th>1</th>\n",
              "      <td>98937</td>\n",
              "      <td>AutoNation</td>\n",
              "      <td>2025-04-02</td>\n",
              "      <td>Hyundai</td>\n",
              "      <td>Santa Fe</td>\n",
              "      <td>2023</td>\n",
              "      <td>70643.0</td>\n",
              "      <td>19719</td>\n",
              "      <td>Credit</td>\n",
              "      <td>2025-04-02T07:25:00</td>\n",
              "    </tr>\n",
              "    <tr>\n",
              "      <th>2</th>\n",
              "      <td>79192</td>\n",
              "      <td>Copart</td>\n",
              "      <td>2025-04-02</td>\n",
              "      <td>Hyundai</td>\n",
              "      <td>Tucson</td>\n",
              "      <td>2022</td>\n",
              "      <td>71863.0</td>\n",
              "      <td>17754</td>\n",
              "      <td>Cash</td>\n",
              "      <td>2025-04-02T00:31:00</td>\n",
              "    </tr>\n",
              "    <tr>\n",
              "      <th>3</th>\n",
              "      <td>74489</td>\n",
              "      <td>None</td>\n",
              "      <td>2025-04-03</td>\n",
              "      <td>Honda</td>\n",
              "      <td>Accord</td>\n",
              "      <td>2019</td>\n",
              "      <td>85494.0</td>\n",
              "      <td>18033</td>\n",
              "      <td>Credit</td>\n",
              "      <td>2025-04-03T10:40:00</td>\n",
              "    </tr>\n",
              "    <tr>\n",
              "      <th>4</th>\n",
              "      <td>35537</td>\n",
              "      <td>Copart</td>\n",
              "      <td>2025-04-03</td>\n",
              "      <td>Toyota</td>\n",
              "      <td>RAV4</td>\n",
              "      <td>2021</td>\n",
              "      <td>15757.0</td>\n",
              "      <td>15491</td>\n",
              "      <td>Credit</td>\n",
              "      <td>2025-04-03T17:38:00</td>\n",
              "    </tr>\n",
              "    <tr>\n",
              "      <th>5</th>\n",
              "      <td>36051</td>\n",
              "      <td>Hertz Global Holdings</td>\n",
              "      <td>2025-04-03</td>\n",
              "      <td>Toyota</td>\n",
              "      <td>Camry</td>\n",
              "      <td>2017</td>\n",
              "      <td>78079.0</td>\n",
              "      <td>19646</td>\n",
              "      <td>Credit</td>\n",
              "      <td>2025-04-03T09:37:00</td>\n",
              "    </tr>\n",
              "    <tr>\n",
              "      <th>6</th>\n",
              "      <td>41675</td>\n",
              "      <td>Penske Automotive</td>\n",
              "      <td>2025-04-03</td>\n",
              "      <td>Ford</td>\n",
              "      <td>Fusion</td>\n",
              "      <td>2019</td>\n",
              "      <td>118027.0</td>\n",
              "      <td>17536</td>\n",
              "      <td>Loan</td>\n",
              "      <td>2025-04-03T12:19:00</td>\n",
              "    </tr>\n",
              "    <tr>\n",
              "      <th>7</th>\n",
              "      <td>12382</td>\n",
              "      <td>AutoNation</td>\n",
              "      <td>2025-04-03</td>\n",
              "      <td>Honda</td>\n",
              "      <td>CR-V</td>\n",
              "      <td>2015</td>\n",
              "      <td>45492.0</td>\n",
              "      <td>7349</td>\n",
              "      <td>Cash</td>\n",
              "      <td>2025-04-03T02:41:00</td>\n",
              "    </tr>\n",
              "    <tr>\n",
              "      <th>8</th>\n",
              "      <td>72212</td>\n",
              "      <td>Avis Budget Group</td>\n",
              "      <td>2025-04-03</td>\n",
              "      <td>Hyundai</td>\n",
              "      <td>Santa Fe</td>\n",
              "      <td>2019</td>\n",
              "      <td>21428.0</td>\n",
              "      <td>14731</td>\n",
              "      <td>Cash</td>\n",
              "      <td>2025-04-03T08:01:00</td>\n",
              "    </tr>\n",
              "    <tr>\n",
              "      <th>9</th>\n",
              "      <td>94424</td>\n",
              "      <td>Enterprise Holdings</td>\n",
              "      <td>2025-04-04</td>\n",
              "      <td>Ford</td>\n",
              "      <td>Fusion</td>\n",
              "      <td>2022</td>\n",
              "      <td>82589.0</td>\n",
              "      <td>14272</td>\n",
              "      <td>Loan</td>\n",
              "      <td>2025-04-04T22:27:00</td>\n",
              "    </tr>\n",
              "  </tbody>\n",
              "</table>\n",
              "</div>"
            ],
            "text/plain": [
              "      id               customer        date car_make car_model  year  \\\n",
              "0  34711                 CarMax  2025-04-02     Ford    Escape  2023   \n",
              "1  98937             AutoNation  2025-04-02  Hyundai  Santa Fe  2023   \n",
              "2  79192                 Copart  2025-04-02  Hyundai    Tucson  2022   \n",
              "3  74489                   None  2025-04-03    Honda    Accord  2019   \n",
              "4  35537                 Copart  2025-04-03   Toyota      RAV4  2021   \n",
              "5  36051  Hertz Global Holdings  2025-04-03   Toyota     Camry  2017   \n",
              "6  41675      Penske Automotive  2025-04-03     Ford    Fusion  2019   \n",
              "7  12382             AutoNation  2025-04-03    Honda      CR-V  2015   \n",
              "8  72212      Avis Budget Group  2025-04-03  Hyundai  Santa Fe  2019   \n",
              "9  94424    Enterprise Holdings  2025-04-04     Ford    Fusion  2022   \n",
              "\n",
              "    mileage  price payment_type         last_updated  \n",
              "0  111613.0   5335         Cash  2025-04-02T16:56:00  \n",
              "1   70643.0  19719       Credit  2025-04-02T07:25:00  \n",
              "2   71863.0  17754         Cash  2025-04-02T00:31:00  \n",
              "3   85494.0  18033       Credit  2025-04-03T10:40:00  \n",
              "4   15757.0  15491       Credit  2025-04-03T17:38:00  \n",
              "5   78079.0  19646       Credit  2025-04-03T09:37:00  \n",
              "6  118027.0  17536         Loan  2025-04-03T12:19:00  \n",
              "7   45492.0   7349         Cash  2025-04-03T02:41:00  \n",
              "8   21428.0  14731         Cash  2025-04-03T08:01:00  \n",
              "9   82589.0  14272         Loan  2025-04-04T22:27:00  "
            ]
          },
          "execution_count": 477,
          "metadata": {},
          "output_type": "execute_result"
        }
      ],
      "source": [
        "# Create DataFrame\n",
        "df = pd.DataFrame(sales_records )\n",
        "\n",
        "# Save to CSV\n",
        "df.to_csv('car_sales_data_2025.csv', index=False)\n",
        "\n",
        "# Display the first 10 records\n",
        "df.head(10)"
      ]
    },
    {
      "cell_type": "code",
      "execution_count": 478,
      "id": "205a2968-56e8-4b2d-b110-bcc4413dc09f",
      "metadata": {
        "trusted": true
      },
      "outputs": [
        {
          "name": "stdout",
          "output_type": "stream",
          "text": [
            "Number of unique days with sales records: 60\n"
          ]
        }
      ],
      "source": [
        "# Count number of unique days\n",
        "unique_days = df['date'].nunique()\n",
        "print(f\"Number of unique days with sales records: {unique_days}\")"
      ]
    },
    {
      "cell_type": "markdown",
      "id": "43d6b150-121e-4359-af22-d7c63ce44632",
      "metadata": {},
      "source": [
        " ###  `Section 1: Full Extraction`"
      ]
    },
    {
      "cell_type": "markdown",
      "id": "39c40a05",
      "metadata": {},
      "source": [
        "**Full Extraction** *means retrieving the entire dataset from the data source every time the extraction process runs, without considering whether any data has changed since the last extraction. This approach ensures that you always have a complete and up-to-date copy of the dataset.*\n",
        "\n",
        "####  `in the following code:`\n",
        "- *The entire dataset is read from the source \"car_sales_data_may_2025.csv\".* \n",
        "- *All records, regardless of whether they are new, updated, or unchanged, are loaded into memory.* \n",
        "- *Basic information about the dataset (such as the number of rows and columns) and a sample of the data are optionally displayed to help verify the extraction and understand the data structure.*\n"
      ]
    },
    {
      "cell_type": "code",
      "execution_count": 479,
      "id": "b37d22be-27ca-4394-b3ba-a70cf12efec7",
      "metadata": {
        "trusted": true
      },
      "outputs": [
        {
          "name": "stdout",
          "output_type": "stream",
          "text": [
            "Pulled 269 rows via full extraction.\n",
            "Dataset shape: (269, 10)\n"
          ]
        }
      ],
      "source": [
        "# FULL EXTRACTION:Load entire dataset\n",
        "df_full = pd.read_csv(\"car_sales_data_2025.csv\", parse_dates=[\"last_updated\"])\n",
        "print(f\"Pulled {len(df_full)} rows via full extraction.\")\n",
        "\n",
        "# Show basic dataset info \n",
        "print(f\"Dataset shape: {df_full.shape}\") "
      ]
    },
    {
      "cell_type": "markdown",
      "id": "007e23e2",
      "metadata": {},
      "source": [
        "### `Sample_Data`"
      ]
    },
    {
      "cell_type": "code",
      "execution_count": 480,
      "id": "35b95631",
      "metadata": {},
      "outputs": [
        {
          "name": "stdout",
          "output_type": "stream",
          "text": [
            "Columns: ['id', 'customer', 'date', 'car_make', 'car_model', 'year', 'mileage', 'price', 'payment_type', 'last_updated']\n"
          ]
        }
      ],
      "source": [
        "print(\"Columns:\", df_full.columns.tolist())"
      ]
    },
    {
      "cell_type": "markdown",
      "id": "1b324eea",
      "metadata": {},
      "source": [
        "\n",
        "- *A sample of the first few rows is printed to verify the data content and structure.*"
      ]
    },
    {
      "cell_type": "code",
      "execution_count": 481,
      "id": "fa0961d3",
      "metadata": {},
      "outputs": [
        {
          "data": {
            "text/html": [
              "<div>\n",
              "<style scoped>\n",
              "    .dataframe tbody tr th:only-of-type {\n",
              "        vertical-align: middle;\n",
              "    }\n",
              "\n",
              "    .dataframe tbody tr th {\n",
              "        vertical-align: top;\n",
              "    }\n",
              "\n",
              "    .dataframe thead th {\n",
              "        text-align: right;\n",
              "    }\n",
              "</style>\n",
              "<table border=\"1\" class=\"dataframe\">\n",
              "  <thead>\n",
              "    <tr style=\"text-align: right;\">\n",
              "      <th></th>\n",
              "      <th>id</th>\n",
              "      <th>customer</th>\n",
              "      <th>date</th>\n",
              "      <th>car_make</th>\n",
              "      <th>car_model</th>\n",
              "      <th>year</th>\n",
              "      <th>mileage</th>\n",
              "      <th>price</th>\n",
              "      <th>payment_type</th>\n",
              "      <th>last_updated</th>\n",
              "    </tr>\n",
              "  </thead>\n",
              "  <tbody>\n",
              "    <tr>\n",
              "      <th>0</th>\n",
              "      <td>34711</td>\n",
              "      <td>CarMax</td>\n",
              "      <td>2025-04-02</td>\n",
              "      <td>Ford</td>\n",
              "      <td>Escape</td>\n",
              "      <td>2023</td>\n",
              "      <td>111613.0</td>\n",
              "      <td>5335</td>\n",
              "      <td>Cash</td>\n",
              "      <td>2025-04-02 16:56:00</td>\n",
              "    </tr>\n",
              "    <tr>\n",
              "      <th>1</th>\n",
              "      <td>98937</td>\n",
              "      <td>AutoNation</td>\n",
              "      <td>2025-04-02</td>\n",
              "      <td>Hyundai</td>\n",
              "      <td>Santa Fe</td>\n",
              "      <td>2023</td>\n",
              "      <td>70643.0</td>\n",
              "      <td>19719</td>\n",
              "      <td>Credit</td>\n",
              "      <td>2025-04-02 07:25:00</td>\n",
              "    </tr>\n",
              "    <tr>\n",
              "      <th>2</th>\n",
              "      <td>79192</td>\n",
              "      <td>Copart</td>\n",
              "      <td>2025-04-02</td>\n",
              "      <td>Hyundai</td>\n",
              "      <td>Tucson</td>\n",
              "      <td>2022</td>\n",
              "      <td>71863.0</td>\n",
              "      <td>17754</td>\n",
              "      <td>Cash</td>\n",
              "      <td>2025-04-02 00:31:00</td>\n",
              "    </tr>\n",
              "    <tr>\n",
              "      <th>3</th>\n",
              "      <td>74489</td>\n",
              "      <td>NaN</td>\n",
              "      <td>2025-04-03</td>\n",
              "      <td>Honda</td>\n",
              "      <td>Accord</td>\n",
              "      <td>2019</td>\n",
              "      <td>85494.0</td>\n",
              "      <td>18033</td>\n",
              "      <td>Credit</td>\n",
              "      <td>2025-04-03 10:40:00</td>\n",
              "    </tr>\n",
              "    <tr>\n",
              "      <th>4</th>\n",
              "      <td>35537</td>\n",
              "      <td>Copart</td>\n",
              "      <td>2025-04-03</td>\n",
              "      <td>Toyota</td>\n",
              "      <td>RAV4</td>\n",
              "      <td>2021</td>\n",
              "      <td>15757.0</td>\n",
              "      <td>15491</td>\n",
              "      <td>Credit</td>\n",
              "      <td>2025-04-03 17:38:00</td>\n",
              "    </tr>\n",
              "  </tbody>\n",
              "</table>\n",
              "</div>"
            ],
            "text/plain": [
              "      id    customer        date car_make car_model  year   mileage  price  \\\n",
              "0  34711      CarMax  2025-04-02     Ford    Escape  2023  111613.0   5335   \n",
              "1  98937  AutoNation  2025-04-02  Hyundai  Santa Fe  2023   70643.0  19719   \n",
              "2  79192      Copart  2025-04-02  Hyundai    Tucson  2022   71863.0  17754   \n",
              "3  74489         NaN  2025-04-03    Honda    Accord  2019   85494.0  18033   \n",
              "4  35537      Copart  2025-04-03   Toyota      RAV4  2021   15757.0  15491   \n",
              "\n",
              "  payment_type        last_updated  \n",
              "0         Cash 2025-04-02 16:56:00  \n",
              "1       Credit 2025-04-02 07:25:00  \n",
              "2         Cash 2025-04-02 00:31:00  \n",
              "3       Credit 2025-04-03 10:40:00  \n",
              "4       Credit 2025-04-03 17:38:00  "
            ]
          },
          "execution_count": 481,
          "metadata": {},
          "output_type": "execute_result"
        }
      ],
      "source": [
        "df_full.head(5)"
      ]
    },
    {
      "cell_type": "code",
      "execution_count": 482,
      "id": "7d4cf55b",
      "metadata": {},
      "outputs": [
        {
          "name": "stdout",
          "output_type": "stream",
          "text": [
            "Incremental extraction output saved as 'car_sales_full_extraction_output.csv\n"
          ]
        }
      ],
      "source": [
        "#full_extraction_ containing the results as csv file\n",
        "df.to_csv('car_sales_full_extraction_output.csv', index=False)\n",
        "\n",
        "# Save incremental extraction results to CSV\n",
        "print(\"Incremental extraction output saved as 'car_sales_full_extraction_output.csv\")\n"
      ]
    },
    {
      "cell_type": "markdown",
      "id": "13bc5e5e-ef04-432c-97a5-5051d8ad9cb0",
      "metadata": {},
      "source": [
        "### `Section 2: Incremental Extraction`"
      ]
    },
    {
      "cell_type": "markdown",
      "id": "fef35e9e",
      "metadata": {},
      "source": [
        "-*`The steps are as follows:`*\n",
        "\n",
        "- *The last extraction timestamp is read from the file `last_extraction.txt`*. \n",
        "- *The dataset is loaded from the file `car_sales_data_may_2025.csv`.  \n",
        "   The `last_updated` column is parsed as a datetime object to facilitate time-based comparisons.*\n",
        "\n",
        "- *The timestamp obtained from the text file is converted into a `pandas`    datetime object.*  \n",
        "- *This allows accurate filtering of records based on their update time.*\n",
        "\n",
        "- *The dataset is filtered to include only the rows where the `last_updated`   value is later than the last extraction timestamp.*  \n",
        "- *This step simulates **incremental extraction** by retrieving only the new or modified records.*\n",
        "\n",
        "- *A sample of these new or updated records is shown to verify the verification of the extraction process.*\n"
      ]
    },
    {
      "cell_type": "markdown",
      "id": "6eeb5115-1f14-4e68-b43a-cd924ca90b56",
      "metadata": {},
      "source": [
        "#### `1. Create the tracking file: last_extraction.txt`\n",
        "\n",
        "- *This file stores the timestamp of the last extraction, so the incremental process knows where to pick up.*\n",
        "\n"
      ]
    },
    {
      "cell_type": "code",
      "execution_count": 483,
      "id": "f2496e1c-86dc-4672-beb4-dc70b687387e",
      "metadata": {
        "trusted": true
      },
      "outputs": [],
      "source": [
        "with open(\"last_extraction.txt\", \"w\") as f:\n",
        "    f.write(\"2025-04-20 12:00:00\")"
      ]
    },
    {
      "cell_type": "markdown",
      "id": "4f1bfc78-1473-44af-b432-09cfd8da34f4",
      "metadata": {},
      "source": [
        "#### `2.Perform Incremental Extraction`\n",
        "- *Read the last extraction timestamp from the tracking file.*"
      ]
    },
    {
      "cell_type": "code",
      "execution_count": 484,
      "id": "cb6cc4a2-a75a-475e-9f78-e42486487e6c",
      "metadata": {
        "trusted": true
      },
      "outputs": [],
      "source": [
        "# INCREMENTAL EXTRACTION\n",
        "with open(\"last_extraction.txt\", \"r\") as f:\n",
        "    last_extraction = f.read().strip()"
      ]
    },
    {
      "cell_type": "markdown",
      "id": "0975024a",
      "metadata": {},
      "source": [
        "#### *Load full dataset with date parsing and Converting to datetime*"
      ]
    },
    {
      "cell_type": "code",
      "execution_count": 485,
      "id": "ab7dae66-d3f9-48ff-a1f6-486cf0d282ba",
      "metadata": {
        "trusted": true
      },
      "outputs": [],
      "source": [
        "df = pd.read_csv(\"car_sales_data_2025.csv\", parse_dates=[\"last_updated\"])\n",
        "last_extraction_time = pd.to_datetime(last_extraction)"
      ]
    },
    {
      "cell_type": "markdown",
      "id": "c9cdf2e0",
      "metadata": {},
      "source": [
        "####  *Filter new or updated records since last extraction*"
      ]
    },
    {
      "cell_type": "code",
      "execution_count": 486,
      "id": "ff94b075-9574-40d5-958b-88ebc5d30555",
      "metadata": {
        "trusted": true
      },
      "outputs": [
        {
          "name": "stdout",
          "output_type": "stream",
          "text": [
            "Pulled 182 new/updated rows since 2025-04-20 12:00:00.\n"
          ]
        },
        {
          "data": {
            "text/html": [
              "<div>\n",
              "<style scoped>\n",
              "    .dataframe tbody tr th:only-of-type {\n",
              "        vertical-align: middle;\n",
              "    }\n",
              "\n",
              "    .dataframe tbody tr th {\n",
              "        vertical-align: top;\n",
              "    }\n",
              "\n",
              "    .dataframe thead th {\n",
              "        text-align: right;\n",
              "    }\n",
              "</style>\n",
              "<table border=\"1\" class=\"dataframe\">\n",
              "  <thead>\n",
              "    <tr style=\"text-align: right;\">\n",
              "      <th></th>\n",
              "      <th>id</th>\n",
              "      <th>customer</th>\n",
              "      <th>date</th>\n",
              "      <th>car_make</th>\n",
              "      <th>car_model</th>\n",
              "      <th>year</th>\n",
              "      <th>mileage</th>\n",
              "      <th>price</th>\n",
              "      <th>payment_type</th>\n",
              "      <th>last_updated</th>\n",
              "    </tr>\n",
              "  </thead>\n",
              "  <tbody>\n",
              "    <tr>\n",
              "      <th>85</th>\n",
              "      <td>85049</td>\n",
              "      <td>AutoNation</td>\n",
              "      <td>2025-04-20</td>\n",
              "      <td>Honda</td>\n",
              "      <td>Accord</td>\n",
              "      <td>2021</td>\n",
              "      <td>80508.0</td>\n",
              "      <td>10552</td>\n",
              "      <td>Credit</td>\n",
              "      <td>2025-04-20 23:49:00</td>\n",
              "    </tr>\n",
              "    <tr>\n",
              "      <th>86</th>\n",
              "      <td>92102</td>\n",
              "      <td>Penske Automotive</td>\n",
              "      <td>2025-04-20</td>\n",
              "      <td>Honda</td>\n",
              "      <td>Civic</td>\n",
              "      <td>2016</td>\n",
              "      <td>56317.0</td>\n",
              "      <td>15748</td>\n",
              "      <td>Cash</td>\n",
              "      <td>2025-04-20 16:48:00</td>\n",
              "    </tr>\n",
              "    <tr>\n",
              "      <th>87</th>\n",
              "      <td>25058</td>\n",
              "      <td>Enterprise Holdings</td>\n",
              "      <td>2025-04-20</td>\n",
              "      <td>Honda</td>\n",
              "      <td>Accord</td>\n",
              "      <td>2015</td>\n",
              "      <td>92961.0</td>\n",
              "      <td>5691</td>\n",
              "      <td>Cash</td>\n",
              "      <td>2025-04-20 14:11:00</td>\n",
              "    </tr>\n",
              "    <tr>\n",
              "      <th>88</th>\n",
              "      <td>63280</td>\n",
              "      <td>Lithia Motors</td>\n",
              "      <td>2025-04-20</td>\n",
              "      <td>Honda</td>\n",
              "      <td>Accord</td>\n",
              "      <td>2016</td>\n",
              "      <td>95518.0</td>\n",
              "      <td>20580</td>\n",
              "      <td>Cash</td>\n",
              "      <td>2025-04-20 19:53:00</td>\n",
              "    </tr>\n",
              "    <tr>\n",
              "      <th>91</th>\n",
              "      <td>93218</td>\n",
              "      <td>AutoNation</td>\n",
              "      <td>2025-04-21</td>\n",
              "      <td>Honda</td>\n",
              "      <td>Accord</td>\n",
              "      <td>2018</td>\n",
              "      <td>114797.0</td>\n",
              "      <td>5329</td>\n",
              "      <td>Cash</td>\n",
              "      <td>2025-04-21 00:23:00</td>\n",
              "    </tr>\n",
              "  </tbody>\n",
              "</table>\n",
              "</div>"
            ],
            "text/plain": [
              "       id             customer        date car_make car_model  year   mileage  \\\n",
              "85  85049           AutoNation  2025-04-20    Honda    Accord  2021   80508.0   \n",
              "86  92102    Penske Automotive  2025-04-20    Honda     Civic  2016   56317.0   \n",
              "87  25058  Enterprise Holdings  2025-04-20    Honda    Accord  2015   92961.0   \n",
              "88  63280        Lithia Motors  2025-04-20    Honda    Accord  2016   95518.0   \n",
              "91  93218           AutoNation  2025-04-21    Honda    Accord  2018  114797.0   \n",
              "\n",
              "    price payment_type        last_updated  \n",
              "85  10552       Credit 2025-04-20 23:49:00  \n",
              "86  15748         Cash 2025-04-20 16:48:00  \n",
              "87   5691         Cash 2025-04-20 14:11:00  \n",
              "88  20580         Cash 2025-04-20 19:53:00  \n",
              "91   5329         Cash 2025-04-21 00:23:00  "
            ]
          },
          "execution_count": 486,
          "metadata": {},
          "output_type": "execute_result"
        }
      ],
      "source": [
        "df_incremental = df[df['last_updated'] > last_extraction_time]\n",
        "print(f\"Pulled {len(df_incremental)} new/updated rows since {last_extraction}.\")\n",
        "df_incremental.head()"
      ]
    },
    {
      "cell_type": "code",
      "execution_count": 487,
      "id": "1486f1ed",
      "metadata": {},
      "outputs": [
        {
          "name": "stdout",
          "output_type": "stream",
          "text": [
            "Incremental extraction output saved as 'incremental_extraction_output.csv'.\n"
          ]
        }
      ],
      "source": [
        "# Save incremental extraction results to CSV\n",
        "df_incremental.to_csv('car_sales_incremental_extraction_output.csv', index=False)\n",
        "print(\"Incremental extraction output saved as 'incremental_extraction_output.csv'.\")"
      ]
    },
    {
      "cell_type": "markdown",
      "id": "3a5428d2-aa59-47e4-9f9b-e7979ad50b3c",
      "metadata": {},
      "source": [
        "### `Update the last_extraction.txt`"
      ]
    },
    {
      "cell_type": "markdown",
      "id": "48301ffc",
      "metadata": {},
      "source": [
        "#### *Incremental Extraction*\n",
        "\n",
        "- *First,  keep a note of the last time we checked for new data by saving a date and time in a file called `last_extraction.txt`.*\n",
        "- *Next, look through the full data but only pick out the new or updated entries that happened after that saved date and time.*\n",
        "- *Then show a message telling how many new or updated records we found since the last time we checked.*\n",
        "\n",
        "### *Save New Timestamp*\n",
        "\n",
        "- *After getting the new data, we update the saved date and time in `last_extraction.txt` to mark the most recent check.*\n",
        "- *This helps us know where to start from next time so we only get new changes, not old data again.*\n"
      ]
    },
    {
      "cell_type": "code",
      "execution_count": 488,
      "id": "2848b4bf-e045-4dfa-a974-97794f796725",
      "metadata": {
        "trusted": true
      },
      "outputs": [
        {
          "name": "stdout",
          "output_type": "stream",
          "text": [
            "Updated last_extraction.txt to 2025-05-31 19:12:00\n"
          ]
        }
      ],
      "source": [
        "# Get the most recent update\n",
        "new_checkpoint = df['last_updated'].max()\n",
        "# Save it\n",
        "with open(\"last_extraction.txt\", \"w\") as f:\n",
        "    f.write(new_checkpoint.isoformat())\n",
        "print(f\"Updated last_extraction.txt to {new_checkpoint}\")"
      ]
    },
    {
      "cell_type": "markdown",
      "id": "42d0ef0d",
      "metadata": {},
      "source": [
        "## *LAB 4: Transform in ETL*"
      ]
    },
    {
      "cell_type": "markdown",
      "id": "4d9ae205",
      "metadata": {},
      "source": [
        "### Transform Full Data\n",
        "*Full Transformation applies all cleaning, enrichment, and formatting operations to the entire dataset,  — regardless of whether the  records are new, updated, or unchanged.*\n",
        "\n",
        "*`Use Cases`:Ideal for initial data loads, schema updates, and ensuring consistency across the entire dataset.*\n",
        "\n",
        "*`Pros`:It ensures complete uniformity, is easier to debug, and supports accurate analytics and reporting.*\n",
        "\n",
        "*`Cons`:It is slower, uses more resources, and can be redundant if no changes exist in the data.*\n"
      ]
    },
    {
      "cell_type": "markdown",
      "id": "bf669bba",
      "metadata": {},
      "source": [
        "#### *Data Cleaning*"
      ]
    },
    {
      "cell_type": "code",
      "execution_count": 489,
      "id": "c50ce9c3",
      "metadata": {},
      "outputs": [
        {
          "name": "stdout",
          "output_type": "stream",
          "text": [
            "<class 'pandas.core.frame.DataFrame'>\n",
            "RangeIndex: 269 entries, 0 to 268\n",
            "Data columns (total 10 columns):\n",
            " #   Column        Non-Null Count  Dtype         \n",
            "---  ------        --------------  -----         \n",
            " 0   id            269 non-null    int64         \n",
            " 1   customer      238 non-null    object        \n",
            " 2   date          269 non-null    object        \n",
            " 3   car_make      269 non-null    object        \n",
            " 4   car_model     269 non-null    object        \n",
            " 5   year          269 non-null    int64         \n",
            " 6   mileage       241 non-null    float64       \n",
            " 7   price         269 non-null    int64         \n",
            " 8   payment_type  252 non-null    object        \n",
            " 9   last_updated  269 non-null    datetime64[ns]\n",
            "dtypes: datetime64[ns](1), float64(1), int64(3), object(5)\n",
            "memory usage: 21.1+ KB\n"
          ]
        }
      ],
      "source": [
        "df_full.info()"
      ]
    },
    {
      "cell_type": "code",
      "execution_count": 490,
      "id": "1a452c3f",
      "metadata": {},
      "outputs": [
        {
          "data": {
            "text/plain": [
              "0"
            ]
          },
          "execution_count": 490,
          "metadata": {},
          "output_type": "execute_result"
        }
      ],
      "source": [
        "df_full.duplicated().sum()"
      ]
    },
    {
      "cell_type": "markdown",
      "id": "2d904505",
      "metadata": {},
      "source": [
        "####  *Handle missing values*"
      ]
    },
    {
      "cell_type": "code",
      "execution_count": 491,
      "id": "fdc8a900",
      "metadata": {},
      "outputs": [
        {
          "data": {
            "text/plain": [
              "id               0\n",
              "customer        31\n",
              "date             0\n",
              "car_make         0\n",
              "car_model        0\n",
              "year             0\n",
              "mileage         28\n",
              "price            0\n",
              "payment_type    17\n",
              "last_updated     0\n",
              "dtype: int64"
            ]
          },
          "execution_count": 491,
          "metadata": {},
          "output_type": "execute_result"
        }
      ],
      "source": [
        "df_full.isnull().sum()"
      ]
    },
    {
      "cell_type": "code",
      "execution_count": 492,
      "id": "ea92f7b9",
      "metadata": {},
      "outputs": [],
      "source": [
        "# fill string-based NaNs with a placeholder\n",
        "df_full['customer'] = df_full['customer'].fillna('Unknown')\n",
        "df_full['payment_type'] = df_full['payment_type'].fillna('Unknown')"
      ]
    },
    {
      "cell_type": "markdown",
      "id": "ff0f9d95",
      "metadata": {},
      "source": [
        "### *Group-wise Imputation for mileage*"
      ]
    },
    {
      "cell_type": "code",
      "execution_count": 493,
      "id": "ef1bba44",
      "metadata": {},
      "outputs": [],
      "source": [
        "# Fill missing mileage with group mean (based on car_make and car_model)\n",
        "df_full['mileage'] = df_full.groupby(['car_make', 'car_model'])['mileage']\\\n",
        "                            .transform(lambda x: x.fillna(x.mean()))"
      ]
    },
    {
      "cell_type": "markdown",
      "id": "6623d18d",
      "metadata": {},
      "source": [
        "#### *Categorize mileage*"
      ]
    },
    {
      "cell_type": "code",
      "execution_count": 494,
      "id": "3aa64ef2",
      "metadata": {},
      "outputs": [],
      "source": [
        "df_full['mileage_bin'] = pd.cut(\n",
        "    df_full['mileage'],\n",
        "    bins=[0, 30000, 60000, 90000, 120000],\n",
        "    labels=['Low', 'Medium', 'High', 'Very High']\n",
        ")"
      ]
    },
    {
      "cell_type": "code",
      "execution_count": 495,
      "id": "572979e2",
      "metadata": {},
      "outputs": [
        {
          "data": {
            "text/html": [
              "<div>\n",
              "<style scoped>\n",
              "    .dataframe tbody tr th:only-of-type {\n",
              "        vertical-align: middle;\n",
              "    }\n",
              "\n",
              "    .dataframe tbody tr th {\n",
              "        vertical-align: top;\n",
              "    }\n",
              "\n",
              "    .dataframe thead th {\n",
              "        text-align: right;\n",
              "    }\n",
              "</style>\n",
              "<table border=\"1\" class=\"dataframe\">\n",
              "  <thead>\n",
              "    <tr style=\"text-align: right;\">\n",
              "      <th></th>\n",
              "      <th>Range</th>\n",
              "      <th>mileage_bin</th>\n",
              "    </tr>\n",
              "  </thead>\n",
              "  <tbody>\n",
              "    <tr>\n",
              "      <th>0</th>\n",
              "      <td>10642–29138</td>\n",
              "      <td>Low</td>\n",
              "    </tr>\n",
              "    <tr>\n",
              "      <th>1</th>\n",
              "      <td>31187–59562</td>\n",
              "      <td>Medium</td>\n",
              "    </tr>\n",
              "    <tr>\n",
              "      <th>2</th>\n",
              "      <td>60782–89742</td>\n",
              "      <td>High</td>\n",
              "    </tr>\n",
              "    <tr>\n",
              "      <th>3</th>\n",
              "      <td>90817–119011</td>\n",
              "      <td>Very High</td>\n",
              "    </tr>\n",
              "  </tbody>\n",
              "</table>\n",
              "</div>"
            ],
            "text/plain": [
              "          Range mileage_bin\n",
              "0   10642–29138         Low\n",
              "1   31187–59562      Medium\n",
              "2   60782–89742        High\n",
              "3  90817–119011   Very High"
            ]
          },
          "execution_count": 495,
          "metadata": {},
          "output_type": "execute_result"
        }
      ],
      "source": [
        "# Group mileage by bin and get range with explicit 'observed=True'\n",
        "mileage_bin = df_full.groupby('mileage_bin', observed=True)['mileage'].agg(\n",
        "    Range=lambda x: f\"{int(x.min())}–{int(x.max())}\"\n",
        ").reset_index()\n",
        "\n",
        "# Reorder columns for clarity\n",
        "mileage_bin = mileage_bin[['Range', 'mileage_bin']]\n",
        "\n",
        "# Display the result\n",
        "mileage_bin\n"
      ]
    },
    {
      "cell_type": "markdown",
      "id": "b7432ffb",
      "metadata": {},
      "source": [
        "#### *Impute Missing price Values Based on Groups*\n"
      ]
    },
    {
      "cell_type": "code",
      "execution_count": 496,
      "id": "6b971756",
      "metadata": {},
      "outputs": [],
      "source": [
        "df_full['price'] = df_full.groupby(['car_make', 'car_model', 'mileage_bin'], observed=True)['price']\\\n",
        "                          .transform(lambda x: x.fillna(x.mean()))"
      ]
    },
    {
      "cell_type": "markdown",
      "id": "312dc888",
      "metadata": {},
      "source": [
        "### *Data Cleaning Summary*\n",
        "\n",
        "#### *`String-Based Missing Value Handling`*  \n",
        "Missing string values in the `customer` and `payment_type  ` column were filled with the placeholder `\"Unknown\"` to ensure consistency and prevent issues in downstream processing.\n",
        "\n",
        "####  *`Group-wise Imputation for mileage`*  \n",
        "Missing values in the `mileage` column were imputed using the mean mileage grouped by `car_make` and `car_model`, offering a more accurate estimate than a  average.\n",
        "\n",
        "#### *`Categorize mileage`*  \n",
        "The `mileage` column was binned into defined ranges (`Low`, `Medium`, `High`, `Very High`) to simplify analysis and assist with grouped imputations.\n",
        "\n",
        "#### *`Impute Missing price Values Based on Groups`*  \n",
        "Missing `price` values were filled using the mean price calculated within groups defined by `car_make`, `car_model`, and `mileage_bin`, ensuring context-aware imputation.\n"
      ]
    },
    {
      "cell_type": "markdown",
      "id": "c2d5e94f",
      "metadata": {},
      "source": [
        "### *Enrichment* "
      ]
    },
    {
      "cell_type": "code",
      "execution_count": 497,
      "id": "0616b948",
      "metadata": {},
      "outputs": [
        {
          "name": "stdout",
          "output_type": "stream",
          "text": [
            "Vehicle Age:\n",
            "  car_make car_model  year  vehicle_age\n",
            "0     Ford    Escape  2023            2\n",
            "1  Hyundai  Santa Fe  2023            2\n",
            "2  Hyundai    Tucson  2022            3\n",
            "3    Honda    Accord  2019            6\n",
            "4   Toyota      RAV4  2021            4\n"
          ]
        }
      ],
      "source": [
        "# Add vehicle_age column\n",
        "df_full['vehicle_age'] = 2025 - df_full['year']\n",
        "# Print a more meaningful preview\n",
        "print(\"Vehicle Age:\")\n",
        "print(df_full[['car_make', 'car_model', 'year', 'vehicle_age']].head())"
      ]
    },
    {
      "cell_type": "markdown",
      "id": "6ce2f4cc",
      "metadata": {},
      "source": [
        "#### *Importance  Enrichment*\n",
        "\n",
        "*This section introduces new features derived from existing columns to add analytical value and support deeper insights:*\n",
        "\n",
        "#### *`vehicle_age `*\n",
        "*This calculates how old each car is. Instead of working with the raw `year`, `vehicle_age` provides a clear numeric representation that is easier to compare and analyze.*\n",
        "\n",
        "\n"
      ]
    },
    {
      "cell_type": "markdown",
      "id": "a11e7199",
      "metadata": {},
      "source": [
        "#### *Key Restructuring*"
      ]
    },
    {
      "cell_type": "code",
      "execution_count": 498,
      "id": "f45490e7",
      "metadata": {},
      "outputs": [
        {
          "data": {
            "text/html": [
              "<div>\n",
              "<style scoped>\n",
              "    .dataframe tbody tr th:only-of-type {\n",
              "        vertical-align: middle;\n",
              "    }\n",
              "\n",
              "    .dataframe tbody tr th {\n",
              "        vertical-align: top;\n",
              "    }\n",
              "\n",
              "    .dataframe thead th {\n",
              "        text-align: right;\n",
              "    }\n",
              "</style>\n",
              "<table border=\"1\" class=\"dataframe\">\n",
              "  <thead>\n",
              "    <tr style=\"text-align: right;\">\n",
              "      <th></th>\n",
              "      <th>sales_id</th>\n",
              "      <th>customer</th>\n",
              "      <th>date</th>\n",
              "      <th>car_make</th>\n",
              "      <th>car_model</th>\n",
              "      <th>year</th>\n",
              "      <th>mileage</th>\n",
              "      <th>price</th>\n",
              "      <th>payment_type</th>\n",
              "      <th>last_updated</th>\n",
              "      <th>mileage_bin</th>\n",
              "      <th>vehicle_age</th>\n",
              "    </tr>\n",
              "  </thead>\n",
              "  <tbody>\n",
              "    <tr>\n",
              "      <th>0</th>\n",
              "      <td>1</td>\n",
              "      <td>CarMax</td>\n",
              "      <td>2025-04-02</td>\n",
              "      <td>Ford</td>\n",
              "      <td>Escape</td>\n",
              "      <td>2023</td>\n",
              "      <td>111613.0</td>\n",
              "      <td>5335</td>\n",
              "      <td>Cash</td>\n",
              "      <td>2025-04-02 16:56:00</td>\n",
              "      <td>Very High</td>\n",
              "      <td>2</td>\n",
              "    </tr>\n",
              "    <tr>\n",
              "      <th>1</th>\n",
              "      <td>2</td>\n",
              "      <td>AutoNation</td>\n",
              "      <td>2025-04-02</td>\n",
              "      <td>Hyundai</td>\n",
              "      <td>Santa Fe</td>\n",
              "      <td>2023</td>\n",
              "      <td>70643.0</td>\n",
              "      <td>19719</td>\n",
              "      <td>Credit</td>\n",
              "      <td>2025-04-02 07:25:00</td>\n",
              "      <td>High</td>\n",
              "      <td>2</td>\n",
              "    </tr>\n",
              "    <tr>\n",
              "      <th>2</th>\n",
              "      <td>3</td>\n",
              "      <td>Copart</td>\n",
              "      <td>2025-04-02</td>\n",
              "      <td>Hyundai</td>\n",
              "      <td>Tucson</td>\n",
              "      <td>2022</td>\n",
              "      <td>71863.0</td>\n",
              "      <td>17754</td>\n",
              "      <td>Cash</td>\n",
              "      <td>2025-04-02 00:31:00</td>\n",
              "      <td>High</td>\n",
              "      <td>3</td>\n",
              "    </tr>\n",
              "    <tr>\n",
              "      <th>3</th>\n",
              "      <td>4</td>\n",
              "      <td>Unknown</td>\n",
              "      <td>2025-04-03</td>\n",
              "      <td>Honda</td>\n",
              "      <td>Accord</td>\n",
              "      <td>2019</td>\n",
              "      <td>85494.0</td>\n",
              "      <td>18033</td>\n",
              "      <td>Credit</td>\n",
              "      <td>2025-04-03 10:40:00</td>\n",
              "      <td>High</td>\n",
              "      <td>6</td>\n",
              "    </tr>\n",
              "    <tr>\n",
              "      <th>4</th>\n",
              "      <td>5</td>\n",
              "      <td>Copart</td>\n",
              "      <td>2025-04-03</td>\n",
              "      <td>Toyota</td>\n",
              "      <td>RAV4</td>\n",
              "      <td>2021</td>\n",
              "      <td>15757.0</td>\n",
              "      <td>15491</td>\n",
              "      <td>Credit</td>\n",
              "      <td>2025-04-03 17:38:00</td>\n",
              "      <td>Low</td>\n",
              "      <td>4</td>\n",
              "    </tr>\n",
              "  </tbody>\n",
              "</table>\n",
              "</div>"
            ],
            "text/plain": [
              "   sales_id    customer        date car_make car_model  year   mileage  price  \\\n",
              "0         1      CarMax  2025-04-02     Ford    Escape  2023  111613.0   5335   \n",
              "1         2  AutoNation  2025-04-02  Hyundai  Santa Fe  2023   70643.0  19719   \n",
              "2         3      Copart  2025-04-02  Hyundai    Tucson  2022   71863.0  17754   \n",
              "3         4     Unknown  2025-04-03    Honda    Accord  2019   85494.0  18033   \n",
              "4         5      Copart  2025-04-03   Toyota      RAV4  2021   15757.0  15491   \n",
              "\n",
              "  payment_type        last_updated mileage_bin  vehicle_age  \n",
              "0         Cash 2025-04-02 16:56:00   Very High            2  \n",
              "1       Credit 2025-04-02 07:25:00        High            2  \n",
              "2         Cash 2025-04-02 00:31:00        High            3  \n",
              "3       Credit 2025-04-03 10:40:00        High            6  \n",
              "4       Credit 2025-04-03 17:38:00         Low            4  "
            ]
          },
          "execution_count": 498,
          "metadata": {},
          "output_type": "execute_result"
        }
      ],
      "source": [
        "df_full.drop(columns='id', inplace=True)\n",
        "\n",
        "# Add a new surrogate key as 'patient_id'\n",
        "df_full.insert(0, 'sales_id', range(1, len(df_full) + 1))\n",
        "\n",
        "# Preview the result\n",
        "df_full.head()"
      ]
    },
    {
      "cell_type": "markdown",
      "id": "33406c6d",
      "metadata": {},
      "source": [
        "#### *Importance of Introducing Surrogate Key `sales_id`*\n",
        "\n",
        "To enhance record identification and maintain consistency, the original `id` column was removed, and a new surrogate key named `sales_id` was added. This key uniquely identifies each record and was inserted as the first column in the dataset.\n",
        "\n",
        "*Using `sales_id` as a surrogate key improves data integrity, simplifies referencing, and supports structured data processing.*\n",
        "\n",
        "--- \n",
        "*A surrogate key like `sales_id` guarantees that each row has a unique identifier, which is critical for maintaining data integrity—especially if the original `id` column contained duplicates or gaps.*\n",
        "\n",
        "\n",
        "*As Surrogate keys simplify merging and integrating with other datasets by providing a clean, consistent identifier.*\n"
      ]
    },
    {
      "cell_type": "code",
      "execution_count": 499,
      "id": "699e49ba",
      "metadata": {},
      "outputs": [
        {
          "name": "stdout",
          "output_type": "stream",
          "text": [
            "Full transformed dataset has been successfully saved as 'transformed_full.csv'.\n"
          ]
        }
      ],
      "source": [
        "df_full.to_csv(\"transformed_full.csv\", index=False)\n",
        "print(\"Full transformed dataset has been successfully saved as 'transformed_full.csv'.\")"
      ]
    },
    {
      "cell_type": "markdown",
      "id": "326b25d0",
      "metadata": {},
      "source": [
        "### Transform Incremental Data\n",
        "\n",
        "*Incremental Transformation targets only newly added or changed data \n",
        "(often based on timestamps or IDs) and applies transformation logic selectively.*\n",
        "\n",
        "*`Use Cases`:Best for frequent updates in production, such as daily loads or streaming data.*\n",
        "\n",
        "*`Pros`:  It is faster, more efficient, and reduces computation by only processing changed data.*\n",
        "\n",
        "\n",
        "*`Cons`:It requires change tracking, adds complexity, and may lead to inconsistencies if historical transformation logic changes.*\n"
      ]
    },
    {
      "cell_type": "markdown",
      "id": "12b87f43",
      "metadata": {},
      "source": [
        "#### *Data Cleaning*"
      ]
    },
    {
      "cell_type": "code",
      "execution_count": 501,
      "id": "32aad8ae",
      "metadata": {},
      "outputs": [],
      "source": [
        "#Load dataset with incremental updates\n",
        "df_incremental= pd.read_csv(\"car_sales_incremental_extraction_output.csv\", parse_dates=[\"last_updated\"])"
      ]
    },
    {
      "cell_type": "code",
      "execution_count": 502,
      "id": "beae11fc",
      "metadata": {},
      "outputs": [
        {
          "name": "stdout",
          "output_type": "stream",
          "text": [
            "<class 'pandas.core.frame.DataFrame'>\n",
            "RangeIndex: 182 entries, 0 to 181\n",
            "Data columns (total 10 columns):\n",
            " #   Column        Non-Null Count  Dtype         \n",
            "---  ------        --------------  -----         \n",
            " 0   id            182 non-null    int64         \n",
            " 1   customer      162 non-null    object        \n",
            " 2   date          182 non-null    object        \n",
            " 3   car_make      182 non-null    object        \n",
            " 4   car_model     182 non-null    object        \n",
            " 5   year          182 non-null    int64         \n",
            " 6   mileage       163 non-null    float64       \n",
            " 7   price         182 non-null    int64         \n",
            " 8   payment_type  171 non-null    object        \n",
            " 9   last_updated  182 non-null    datetime64[ns]\n",
            "dtypes: datetime64[ns](1), float64(1), int64(3), object(5)\n",
            "memory usage: 14.3+ KB\n"
          ]
        }
      ],
      "source": [
        "df_incremental.info()"
      ]
    },
    {
      "cell_type": "code",
      "execution_count": 503,
      "id": "a8f3616b",
      "metadata": {},
      "outputs": [
        {
          "data": {
            "text/plain": [
              "0"
            ]
          },
          "execution_count": 503,
          "metadata": {},
          "output_type": "execute_result"
        }
      ],
      "source": [
        "df_incremental.duplicated().sum()"
      ]
    },
    {
      "cell_type": "code",
      "execution_count": 504,
      "id": "ac141a30",
      "metadata": {},
      "outputs": [
        {
          "data": {
            "text/plain": [
              "id               0\n",
              "customer        20\n",
              "date             0\n",
              "car_make         0\n",
              "car_model        0\n",
              "year             0\n",
              "mileage         19\n",
              "price            0\n",
              "payment_type    11\n",
              "last_updated     0\n",
              "dtype: int64"
            ]
          },
          "execution_count": 504,
          "metadata": {},
          "output_type": "execute_result"
        }
      ],
      "source": [
        "df_incremental.isnull().sum()"
      ]
    },
    {
      "cell_type": "code",
      "execution_count": 505,
      "id": "139cfe96",
      "metadata": {},
      "outputs": [],
      "source": [
        "# fill string-based NaNs with a placeholder\n",
        "df_incremental['customer'] = df_incremental['customer'].fillna('Unknown')\n",
        "df_incremental['payment_type'] = df_incremental['payment_type'].fillna('Unknown')"
      ]
    },
    {
      "cell_type": "markdown",
      "id": "2b1bf7f2",
      "metadata": {},
      "source": [
        "### *Group-wise Imputation for mileage*"
      ]
    },
    {
      "cell_type": "code",
      "execution_count": 506,
      "id": "f3a96ca5",
      "metadata": {},
      "outputs": [],
      "source": [
        "# Fill missing mileage with group mean (based on car_make and car_model)\n",
        "df_full['mileage'] = df_incremental.groupby(['car_make', 'car_model'])['mileage']\\\n",
        "                            .transform(lambda x: x.fillna(x.mean()))"
      ]
    },
    {
      "cell_type": "markdown",
      "id": "f3ca13f4",
      "metadata": {},
      "source": [
        "#### *Categorize mileage*"
      ]
    },
    {
      "cell_type": "code",
      "execution_count": 507,
      "id": "ca9ff954",
      "metadata": {},
      "outputs": [],
      "source": [
        "df_incremental['mileage_bin'] = pd.cut(\n",
        "    df_incremental['mileage'],\n",
        "    bins=[0, 30000, 60000, 90000, 120000],\n",
        "    labels=['Low', 'Medium', 'High', 'Very High']\n",
        ")"
      ]
    },
    {
      "cell_type": "code",
      "execution_count": 508,
      "id": "c1c4e75e",
      "metadata": {},
      "outputs": [
        {
          "data": {
            "text/html": [
              "<div>\n",
              "<style scoped>\n",
              "    .dataframe tbody tr th:only-of-type {\n",
              "        vertical-align: middle;\n",
              "    }\n",
              "\n",
              "    .dataframe tbody tr th {\n",
              "        vertical-align: top;\n",
              "    }\n",
              "\n",
              "    .dataframe thead th {\n",
              "        text-align: right;\n",
              "    }\n",
              "</style>\n",
              "<table border=\"1\" class=\"dataframe\">\n",
              "  <thead>\n",
              "    <tr style=\"text-align: right;\">\n",
              "      <th></th>\n",
              "      <th>Range</th>\n",
              "      <th>mileage_bin</th>\n",
              "    </tr>\n",
              "  </thead>\n",
              "  <tbody>\n",
              "    <tr>\n",
              "      <th>0</th>\n",
              "      <td>10642–27969</td>\n",
              "      <td>Low</td>\n",
              "    </tr>\n",
              "    <tr>\n",
              "      <th>1</th>\n",
              "      <td>31187–59547</td>\n",
              "      <td>Medium</td>\n",
              "    </tr>\n",
              "    <tr>\n",
              "      <th>2</th>\n",
              "      <td>60782–89742</td>\n",
              "      <td>High</td>\n",
              "    </tr>\n",
              "    <tr>\n",
              "      <th>3</th>\n",
              "      <td>90817–119011</td>\n",
              "      <td>Very High</td>\n",
              "    </tr>\n",
              "  </tbody>\n",
              "</table>\n",
              "</div>"
            ],
            "text/plain": [
              "          Range mileage_bin\n",
              "0   10642–27969         Low\n",
              "1   31187–59547      Medium\n",
              "2   60782–89742        High\n",
              "3  90817–119011   Very High"
            ]
          },
          "execution_count": 508,
          "metadata": {},
          "output_type": "execute_result"
        }
      ],
      "source": [
        "# Group mileage by bin and get range with explicit 'observed=True'\n",
        "mileage_bin = df_incremental.groupby('mileage_bin', observed=True)['mileage'].agg(\n",
        "    Range=lambda x: f\"{int(x.min())}–{int(x.max())}\"\n",
        ").reset_index()\n",
        "\n",
        "# Reorder columns for clarity\n",
        "mileage_bin = mileage_bin[['Range', 'mileage_bin']]\n",
        "\n",
        "# Display the result\n",
        "mileage_bin\n"
      ]
    },
    {
      "cell_type": "markdown",
      "id": "8c37c073",
      "metadata": {},
      "source": [
        "#### *Impute Missing price Values Based on Groups*\n"
      ]
    },
    {
      "cell_type": "code",
      "execution_count": 509,
      "id": "cfd3e153",
      "metadata": {},
      "outputs": [],
      "source": [
        "df_full['price'] = df_incremental.groupby(['car_make', 'car_model', 'mileage_bin'], observed=True)['price']\\\n",
        "                          .transform(lambda x: x.fillna(x.mean()))"
      ]
    },
    {
      "cell_type": "markdown",
      "id": "077c839a",
      "metadata": {},
      "source": [
        "### *Enrichment* "
      ]
    },
    {
      "cell_type": "code",
      "execution_count": 510,
      "id": "31e33389",
      "metadata": {},
      "outputs": [
        {
          "name": "stdout",
          "output_type": "stream",
          "text": [
            "Vehicle Age:\n",
            "  car_make car_model  year  vehicle_age\n",
            "0    Honda    Accord  2021            4\n",
            "1    Honda     Civic  2016            9\n",
            "2    Honda    Accord  2015           10\n",
            "3    Honda    Accord  2016            9\n",
            "4    Honda    Accord  2018            7\n"
          ]
        }
      ],
      "source": [
        "# Add vehicle_age column\n",
        "df_incremental['vehicle_age'] = 2025 - df_incremental['year']\n",
        "# Print a more meaningful preview\n",
        "print(\"Vehicle Age:\")\n",
        "print(df_incremental[['car_make', 'car_model', 'year', 'vehicle_age']].head())"
      ]
    },
    {
      "cell_type": "markdown",
      "id": "1fc5d15b",
      "metadata": {},
      "source": [
        "#### *Key Restructuring*"
      ]
    },
    {
      "cell_type": "code",
      "execution_count": 511,
      "id": "b76abe23",
      "metadata": {},
      "outputs": [
        {
          "data": {
            "text/html": [
              "<div>\n",
              "<style scoped>\n",
              "    .dataframe tbody tr th:only-of-type {\n",
              "        vertical-align: middle;\n",
              "    }\n",
              "\n",
              "    .dataframe tbody tr th {\n",
              "        vertical-align: top;\n",
              "    }\n",
              "\n",
              "    .dataframe thead th {\n",
              "        text-align: right;\n",
              "    }\n",
              "</style>\n",
              "<table border=\"1\" class=\"dataframe\">\n",
              "  <thead>\n",
              "    <tr style=\"text-align: right;\">\n",
              "      <th></th>\n",
              "      <th>sales_id</th>\n",
              "      <th>customer</th>\n",
              "      <th>date</th>\n",
              "      <th>car_make</th>\n",
              "      <th>car_model</th>\n",
              "      <th>year</th>\n",
              "      <th>mileage</th>\n",
              "      <th>price</th>\n",
              "      <th>payment_type</th>\n",
              "      <th>last_updated</th>\n",
              "      <th>mileage_bin</th>\n",
              "      <th>vehicle_age</th>\n",
              "    </tr>\n",
              "  </thead>\n",
              "  <tbody>\n",
              "    <tr>\n",
              "      <th>0</th>\n",
              "      <td>1</td>\n",
              "      <td>AutoNation</td>\n",
              "      <td>2025-04-20</td>\n",
              "      <td>Honda</td>\n",
              "      <td>Accord</td>\n",
              "      <td>2021</td>\n",
              "      <td>80508.0</td>\n",
              "      <td>10552</td>\n",
              "      <td>Credit</td>\n",
              "      <td>2025-04-20 23:49:00</td>\n",
              "      <td>High</td>\n",
              "      <td>4</td>\n",
              "    </tr>\n",
              "    <tr>\n",
              "      <th>1</th>\n",
              "      <td>2</td>\n",
              "      <td>Penske Automotive</td>\n",
              "      <td>2025-04-20</td>\n",
              "      <td>Honda</td>\n",
              "      <td>Civic</td>\n",
              "      <td>2016</td>\n",
              "      <td>56317.0</td>\n",
              "      <td>15748</td>\n",
              "      <td>Cash</td>\n",
              "      <td>2025-04-20 16:48:00</td>\n",
              "      <td>Medium</td>\n",
              "      <td>9</td>\n",
              "    </tr>\n",
              "    <tr>\n",
              "      <th>2</th>\n",
              "      <td>3</td>\n",
              "      <td>Enterprise Holdings</td>\n",
              "      <td>2025-04-20</td>\n",
              "      <td>Honda</td>\n",
              "      <td>Accord</td>\n",
              "      <td>2015</td>\n",
              "      <td>92961.0</td>\n",
              "      <td>5691</td>\n",
              "      <td>Cash</td>\n",
              "      <td>2025-04-20 14:11:00</td>\n",
              "      <td>Very High</td>\n",
              "      <td>10</td>\n",
              "    </tr>\n",
              "    <tr>\n",
              "      <th>3</th>\n",
              "      <td>4</td>\n",
              "      <td>Lithia Motors</td>\n",
              "      <td>2025-04-20</td>\n",
              "      <td>Honda</td>\n",
              "      <td>Accord</td>\n",
              "      <td>2016</td>\n",
              "      <td>95518.0</td>\n",
              "      <td>20580</td>\n",
              "      <td>Cash</td>\n",
              "      <td>2025-04-20 19:53:00</td>\n",
              "      <td>Very High</td>\n",
              "      <td>9</td>\n",
              "    </tr>\n",
              "    <tr>\n",
              "      <th>4</th>\n",
              "      <td>5</td>\n",
              "      <td>AutoNation</td>\n",
              "      <td>2025-04-21</td>\n",
              "      <td>Honda</td>\n",
              "      <td>Accord</td>\n",
              "      <td>2018</td>\n",
              "      <td>114797.0</td>\n",
              "      <td>5329</td>\n",
              "      <td>Cash</td>\n",
              "      <td>2025-04-21 00:23:00</td>\n",
              "      <td>Very High</td>\n",
              "      <td>7</td>\n",
              "    </tr>\n",
              "  </tbody>\n",
              "</table>\n",
              "</div>"
            ],
            "text/plain": [
              "   sales_id             customer        date car_make car_model  year  \\\n",
              "0         1           AutoNation  2025-04-20    Honda    Accord  2021   \n",
              "1         2    Penske Automotive  2025-04-20    Honda     Civic  2016   \n",
              "2         3  Enterprise Holdings  2025-04-20    Honda    Accord  2015   \n",
              "3         4        Lithia Motors  2025-04-20    Honda    Accord  2016   \n",
              "4         5           AutoNation  2025-04-21    Honda    Accord  2018   \n",
              "\n",
              "    mileage  price payment_type        last_updated mileage_bin  vehicle_age  \n",
              "0   80508.0  10552       Credit 2025-04-20 23:49:00        High            4  \n",
              "1   56317.0  15748         Cash 2025-04-20 16:48:00      Medium            9  \n",
              "2   92961.0   5691         Cash 2025-04-20 14:11:00   Very High           10  \n",
              "3   95518.0  20580         Cash 2025-04-20 19:53:00   Very High            9  \n",
              "4  114797.0   5329         Cash 2025-04-21 00:23:00   Very High            7  "
            ]
          },
          "execution_count": 511,
          "metadata": {},
          "output_type": "execute_result"
        }
      ],
      "source": [
        "# Add a new surrogate key as 'patient_id'\n",
        "df_incremental.insert(0, 'sales_id', range(1, len(df_incremental) + 1))\n",
        "\n",
        "df_incremental.drop(columns='id', inplace=True)\n",
        "\n",
        "# Preview result\n",
        "df_incremental.head()"
      ]
    },
    {
      "cell_type": "code",
      "execution_count": 512,
      "id": "220bbf09",
      "metadata": {},
      "outputs": [
        {
          "name": "stdout",
          "output_type": "stream",
          "text": [
            "Incremental transformed dataset has been successfully saved as 'transformed_full.csv'.\n"
          ]
        }
      ],
      "source": [
        "df_full.to_csv(\"transformed_incremental.csv.csv\", index=False)\n",
        "print(\"Incremental transformed dataset has been successfully saved as 'transformed_full.csv'.\")"
      ]
    }
  ],
  "metadata": {
    "kernelspec": {
      "display_name": "base",
      "language": "python",
      "name": "python3"
    },
    "language_info": {
      "codemirror_mode": {
        "name": "ipython",
        "version": 3
      },
      "file_extension": ".py",
      "mimetype": "text/x-python",
      "name": "python",
      "nbconvert_exporter": "python",
      "pygments_lexer": "ipython3",
      "version": "3.12.7"
    }
  },
  "nbformat": 4,
  "nbformat_minor": 5
}
