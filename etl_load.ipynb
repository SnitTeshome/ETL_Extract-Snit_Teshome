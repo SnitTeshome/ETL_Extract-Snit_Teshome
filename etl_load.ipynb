{
 "cells": [
  {
   "cell_type": "markdown",
   "id": "8c670089",
   "metadata": {},
   "source": [
    "### *Loading Transformed car_sales_Records*"
   ]
  },
  {
   "cell_type": "markdown",
   "id": "f3899ee0",
   "metadata": {},
   "source": [
    "### *Section 1:Load Setup – Import libraries*"
   ]
  },
  {
   "cell_type": "code",
   "execution_count": 103,
   "id": "d32752cc",
   "metadata": {},
   "outputs": [],
   "source": [
    "## This code is part of a Jupyter Notebook and is used to load transformed data into a DataFrame.\n",
    "import pandas as pd"
   ]
  },
  {
   "cell_type": "markdown",
   "id": "a6c249cc",
   "metadata": {},
   "source": [
    "#### *Define Paths*"
   ]
  },
  {
   "cell_type": "code",
   "execution_count": 104,
   "id": "7ff71a78",
   "metadata": {},
   "outputs": [],
   "source": [
    "# Load full CSV and save as Parquet\n",
    "full_csv_path = \"05_out_put_Tranformation/transformed_full.csv\"\n",
    "\n",
    "# Define the path where the full dataset will be saved in Parquet format\n",
    "full_parquet_path = \"loaded_data/full_data.parquet\""
   ]
  },
  {
   "cell_type": "code",
   "execution_count": 105,
   "id": "e446fda0",
   "metadata": {},
   "outputs": [],
   "source": [
    "# Load incremental CSV and save as Parquet\n",
    "incremental_csv_path = \"05_out_put_Tranformation/transformed_incremental.csv\"\n",
    "\n",
    "# Define the path where the incremental dataset will be saved in Parquet format\n",
    "incremental_parquet_path = \"loaded_data/incremental_data.parquet\""
   ]
  },
  {
   "cell_type": "markdown",
   "id": "86070072",
   "metadata": {},
   "source": [
    "#### *Section 2: Load Full Transformed Data and Save as Parquet*"
   ]
  },
  {
   "cell_type": "code",
   "execution_count": 106,
   "id": "4774d814",
   "metadata": {},
   "outputs": [],
   "source": [
    "# Reading the CSV file named 'transformed_full.csv' into a DataFrame\n",
    "full_df = pd.read_csv(full_csv_path)\n",
    "\n",
    "# Save the DataFrame as a Parquet file\n",
    "full_df.to_parquet(full_parquet_path, index=False)"
   ]
  },
  {
   "cell_type": "markdown",
   "id": "0a978c3f",
   "metadata": {},
   "source": [
    "### *Section 3: Load Incremental Transformed Data and save as Parquet*"
   ]
  },
  {
   "cell_type": "code",
   "execution_count": 107,
   "id": "dcdc21e1",
   "metadata": {},
   "outputs": [],
   "source": [
    "# Reading the CSV file named 'transformed_incremental.csv' into a DataFrame\n",
    "incremental_df = pd.read_csv(incremental_csv_path)\n",
    "\n",
    "# Save the DataFrame as a Parquet file\n",
    "incremental_df.to_parquet(incremental_parquet_path, index=False)"
   ]
  },
  {
   "cell_type": "markdown",
   "id": "f991209a",
   "metadata": {},
   "source": [
    "### *Section 4: Verification*"
   ]
  },
  {
   "cell_type": "markdown",
   "id": "ce1e30cc",
   "metadata": {},
   "source": [
    "#### *Full_data*"
   ]
  },
  {
   "cell_type": "code",
   "execution_count": 108,
   "id": "cf739d5d",
   "metadata": {},
   "outputs": [
    {
     "data": {
      "text/html": [
       "<div>\n",
       "<style scoped>\n",
       "    .dataframe tbody tr th:only-of-type {\n",
       "        vertical-align: middle;\n",
       "    }\n",
       "\n",
       "    .dataframe tbody tr th {\n",
       "        vertical-align: top;\n",
       "    }\n",
       "\n",
       "    .dataframe thead th {\n",
       "        text-align: right;\n",
       "    }\n",
       "</style>\n",
       "<table border=\"1\" class=\"dataframe\">\n",
       "  <thead>\n",
       "    <tr style=\"text-align: right;\">\n",
       "      <th></th>\n",
       "      <th>sales_id</th>\n",
       "      <th>customer</th>\n",
       "      <th>date</th>\n",
       "      <th>car_make</th>\n",
       "      <th>car_model</th>\n",
       "      <th>year</th>\n",
       "      <th>mileage</th>\n",
       "      <th>price</th>\n",
       "      <th>payment_type</th>\n",
       "      <th>last_updated</th>\n",
       "      <th>mileage_bin</th>\n",
       "      <th>vehicle_age</th>\n",
       "    </tr>\n",
       "  </thead>\n",
       "  <tbody>\n",
       "    <tr>\n",
       "      <th>0</th>\n",
       "      <td>1</td>\n",
       "      <td>Unknown</td>\n",
       "      <td>2025-04-02</td>\n",
       "      <td>Ford</td>\n",
       "      <td>Focus</td>\n",
       "      <td>2019</td>\n",
       "      <td>55393.0</td>\n",
       "      <td>8632</td>\n",
       "      <td>Cash</td>\n",
       "      <td>2025-04-02T18:26:00</td>\n",
       "      <td>Medium</td>\n",
       "      <td>6</td>\n",
       "    </tr>\n",
       "    <tr>\n",
       "      <th>1</th>\n",
       "      <td>2</td>\n",
       "      <td>Avis Budget Group</td>\n",
       "      <td>2025-04-02</td>\n",
       "      <td>Honda</td>\n",
       "      <td>Civic</td>\n",
       "      <td>2018</td>\n",
       "      <td>114804.0</td>\n",
       "      <td>7464</td>\n",
       "      <td>Loan</td>\n",
       "      <td>2025-04-02T13:59:00</td>\n",
       "      <td>Very High</td>\n",
       "      <td>7</td>\n",
       "    </tr>\n",
       "    <tr>\n",
       "      <th>2</th>\n",
       "      <td>3</td>\n",
       "      <td>Hertz Global Holdings</td>\n",
       "      <td>2025-04-02</td>\n",
       "      <td>Chevrolet</td>\n",
       "      <td>Malibu</td>\n",
       "      <td>2021</td>\n",
       "      <td>108048.0</td>\n",
       "      <td>17151</td>\n",
       "      <td>Loan</td>\n",
       "      <td>2025-04-02T21:44:00</td>\n",
       "      <td>Very High</td>\n",
       "      <td>4</td>\n",
       "    </tr>\n",
       "    <tr>\n",
       "      <th>3</th>\n",
       "      <td>4</td>\n",
       "      <td>CarMax</td>\n",
       "      <td>2025-04-02</td>\n",
       "      <td>Toyota</td>\n",
       "      <td>Corolla</td>\n",
       "      <td>2018</td>\n",
       "      <td>118260.0</td>\n",
       "      <td>15158</td>\n",
       "      <td>Credit</td>\n",
       "      <td>2025-04-02T12:29:00</td>\n",
       "      <td>Very High</td>\n",
       "      <td>7</td>\n",
       "    </tr>\n",
       "    <tr>\n",
       "      <th>4</th>\n",
       "      <td>5</td>\n",
       "      <td>CarMax</td>\n",
       "      <td>2025-04-02</td>\n",
       "      <td>Honda</td>\n",
       "      <td>Civic</td>\n",
       "      <td>2019</td>\n",
       "      <td>26459.0</td>\n",
       "      <td>9878</td>\n",
       "      <td>Cash</td>\n",
       "      <td>2025-04-02T12:29:00</td>\n",
       "      <td>Low</td>\n",
       "      <td>6</td>\n",
       "    </tr>\n",
       "  </tbody>\n",
       "</table>\n",
       "</div>"
      ],
      "text/plain": [
       "   sales_id               customer        date   car_make car_model  year  \\\n",
       "0         1                Unknown  2025-04-02       Ford     Focus  2019   \n",
       "1         2      Avis Budget Group  2025-04-02      Honda     Civic  2018   \n",
       "2         3  Hertz Global Holdings  2025-04-02  Chevrolet    Malibu  2021   \n",
       "3         4                 CarMax  2025-04-02     Toyota   Corolla  2018   \n",
       "4         5                 CarMax  2025-04-02      Honda     Civic  2019   \n",
       "\n",
       "    mileage  price payment_type         last_updated mileage_bin  vehicle_age  \n",
       "0   55393.0   8632         Cash  2025-04-02T18:26:00      Medium            6  \n",
       "1  114804.0   7464         Loan  2025-04-02T13:59:00   Very High            7  \n",
       "2  108048.0  17151         Loan  2025-04-02T21:44:00   Very High            4  \n",
       "3  118260.0  15158       Credit  2025-04-02T12:29:00   Very High            7  \n",
       "4   26459.0   9878         Cash  2025-04-02T12:29:00         Low            6  "
      ]
     },
     "execution_count": 108,
     "metadata": {},
     "output_type": "execute_result"
    }
   ],
   "source": [
    "# Load the saved full_data.parquet file into a DataFrame\n",
    "full_parquet_df = pd.read_parquet('loaded_data/full_data.parquet')\n",
    "# Display the first 5 rows of the full dataset\n",
    "full_parquet_df.head()"
   ]
  },
  {
   "cell_type": "markdown",
   "id": "623df2f1",
   "metadata": {},
   "source": [
    "#### *Incremental_data*\n"
   ]
  },
  {
   "cell_type": "code",
   "execution_count": 109,
   "id": "b3f0c8b9",
   "metadata": {},
   "outputs": [
    {
     "data": {
      "text/html": [
       "<div>\n",
       "<style scoped>\n",
       "    .dataframe tbody tr th:only-of-type {\n",
       "        vertical-align: middle;\n",
       "    }\n",
       "\n",
       "    .dataframe tbody tr th {\n",
       "        vertical-align: top;\n",
       "    }\n",
       "\n",
       "    .dataframe thead th {\n",
       "        text-align: right;\n",
       "    }\n",
       "</style>\n",
       "<table border=\"1\" class=\"dataframe\">\n",
       "  <thead>\n",
       "    <tr style=\"text-align: right;\">\n",
       "      <th></th>\n",
       "      <th>sales_id</th>\n",
       "      <th>customer</th>\n",
       "      <th>date</th>\n",
       "      <th>car_make</th>\n",
       "      <th>car_model</th>\n",
       "      <th>year</th>\n",
       "      <th>mileage</th>\n",
       "      <th>price</th>\n",
       "      <th>payment_type</th>\n",
       "      <th>last_updated</th>\n",
       "      <th>mileage_bin</th>\n",
       "      <th>vehicle_age</th>\n",
       "    </tr>\n",
       "  </thead>\n",
       "  <tbody>\n",
       "    <tr>\n",
       "      <th>0</th>\n",
       "      <td>1</td>\n",
       "      <td>Lithia Motors</td>\n",
       "      <td>2025-04-21</td>\n",
       "      <td>Honda</td>\n",
       "      <td>Civic</td>\n",
       "      <td>2018</td>\n",
       "      <td>13829.0</td>\n",
       "      <td>9125</td>\n",
       "      <td>Credit</td>\n",
       "      <td>2025-04-21 02:13:00</td>\n",
       "      <td>Low</td>\n",
       "      <td>7</td>\n",
       "    </tr>\n",
       "    <tr>\n",
       "      <th>1</th>\n",
       "      <td>2</td>\n",
       "      <td>Unknown</td>\n",
       "      <td>2025-04-21</td>\n",
       "      <td>Chevrolet</td>\n",
       "      <td>Equinox</td>\n",
       "      <td>2023</td>\n",
       "      <td>99721.0</td>\n",
       "      <td>20531</td>\n",
       "      <td>Cash</td>\n",
       "      <td>2025-04-21 09:42:00</td>\n",
       "      <td>Very High</td>\n",
       "      <td>2</td>\n",
       "    </tr>\n",
       "    <tr>\n",
       "      <th>2</th>\n",
       "      <td>3</td>\n",
       "      <td>Unknown</td>\n",
       "      <td>2025-04-21</td>\n",
       "      <td>Chevrolet</td>\n",
       "      <td>Cruze</td>\n",
       "      <td>2016</td>\n",
       "      <td>106619.0</td>\n",
       "      <td>24660</td>\n",
       "      <td>Cash</td>\n",
       "      <td>2025-04-21 14:18:00</td>\n",
       "      <td>Very High</td>\n",
       "      <td>9</td>\n",
       "    </tr>\n",
       "    <tr>\n",
       "      <th>3</th>\n",
       "      <td>4</td>\n",
       "      <td>Copart</td>\n",
       "      <td>2025-04-21</td>\n",
       "      <td>Toyota</td>\n",
       "      <td>RAV4</td>\n",
       "      <td>2018</td>\n",
       "      <td>110291.0</td>\n",
       "      <td>20841</td>\n",
       "      <td>Credit</td>\n",
       "      <td>2025-04-21 09:45:00</td>\n",
       "      <td>Very High</td>\n",
       "      <td>7</td>\n",
       "    </tr>\n",
       "    <tr>\n",
       "      <th>4</th>\n",
       "      <td>5</td>\n",
       "      <td>Penske Automotive</td>\n",
       "      <td>2025-04-22</td>\n",
       "      <td>Hyundai</td>\n",
       "      <td>Elantra</td>\n",
       "      <td>2017</td>\n",
       "      <td>102322.0</td>\n",
       "      <td>8095</td>\n",
       "      <td>Credit</td>\n",
       "      <td>2025-04-22 18:23:00</td>\n",
       "      <td>Very High</td>\n",
       "      <td>8</td>\n",
       "    </tr>\n",
       "  </tbody>\n",
       "</table>\n",
       "</div>"
      ],
      "text/plain": [
       "   sales_id           customer        date   car_make car_model  year  \\\n",
       "0         1      Lithia Motors  2025-04-21      Honda     Civic  2018   \n",
       "1         2            Unknown  2025-04-21  Chevrolet   Equinox  2023   \n",
       "2         3            Unknown  2025-04-21  Chevrolet     Cruze  2016   \n",
       "3         4             Copart  2025-04-21     Toyota      RAV4  2018   \n",
       "4         5  Penske Automotive  2025-04-22    Hyundai   Elantra  2017   \n",
       "\n",
       "    mileage  price payment_type         last_updated mileage_bin  vehicle_age  \n",
       "0   13829.0   9125       Credit  2025-04-21 02:13:00         Low            7  \n",
       "1   99721.0  20531         Cash  2025-04-21 09:42:00   Very High            2  \n",
       "2  106619.0  24660         Cash  2025-04-21 14:18:00   Very High            9  \n",
       "3  110291.0  20841       Credit  2025-04-21 09:45:00   Very High            7  \n",
       "4  102322.0   8095       Credit  2025-04-22 18:23:00   Very High            8  "
      ]
     },
     "execution_count": 109,
     "metadata": {},
     "output_type": "execute_result"
    }
   ],
   "source": [
    "# Load the saved incremental_data.parquet file into a DataFrame\n",
    "incremental_parquet_df = pd.read_parquet('loaded_data/incremental_data.parquet')\n",
    "\n",
    "# Display the first 5 rows of the incremental dataset\n",
    "incremental_parquet_df.head()\n"
   ]
  }
 ],
 "metadata": {
  "kernelspec": {
   "display_name": "base",
   "language": "python",
   "name": "python3"
  },
  "language_info": {
   "codemirror_mode": {
    "name": "ipython",
    "version": 3
   },
   "file_extension": ".py",
   "mimetype": "text/x-python",
   "name": "python",
   "nbconvert_exporter": "python",
   "pygments_lexer": "ipython3",
   "version": "3.12.7"
  }
 },
 "nbformat": 4,
 "nbformat_minor": 5
}
