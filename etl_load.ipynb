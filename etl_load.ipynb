{
 "cells": [
  {
   "cell_type": "markdown",
   "id": "8c670089",
   "metadata": {},
   "source": [
    "### *Loading Transformed car_sales_Records*"
   ]
  },
  {
   "cell_type": "markdown",
   "id": "f3899ee0",
   "metadata": {},
   "source": [
    "### *Section 1:Load Setup – Import libraries*"
   ]
  },
  {
   "cell_type": "code",
   "execution_count": 96,
   "id": "d32752cc",
   "metadata": {},
   "outputs": [],
   "source": [
    "## This code is part of a Jupyter Notebook and is used to load transformed data into a DataFrame.\n",
    "import pandas as pd"
   ]
  },
  {
   "cell_type": "markdown",
   "id": "a6c249cc",
   "metadata": {},
   "source": [
    "#### *Define Paths*"
   ]
  },
  {
   "cell_type": "code",
   "execution_count": 97,
   "id": "7ff71a78",
   "metadata": {},
   "outputs": [],
   "source": [
    "# Load full CSV and save as Parquet\n",
    "full_csv_path = \"05_out_put_Tranformation/transformed_full.csv\"\n",
    "\n",
    "# Define the path where the full dataset will be saved in Parquet format\n",
    "full_parquet_path = \"loaded_data/full_data.parquet\""
   ]
  },
  {
   "cell_type": "code",
   "execution_count": 98,
   "id": "e446fda0",
   "metadata": {},
   "outputs": [],
   "source": [
    "# Load incremental CSV and save as Parquet\n",
    "incremental_csv_path = \"05_out_put_Tranformation/transformed_incremental.csv\"\n",
    "\n",
    "# Define the path where the incremental dataset will be saved in Parquet format\n",
    "incremental_parquet_path = \"loaded_data/incremental_data.parquet\""
   ]
  },
  {
   "cell_type": "markdown",
   "id": "86070072",
   "metadata": {},
   "source": [
    "#### *Section 2: Load Full Transformed Data and Save as Parquet*"
   ]
  },
  {
   "cell_type": "code",
   "execution_count": 99,
   "id": "4774d814",
   "metadata": {},
   "outputs": [],
   "source": [
    "# Reading the CSV file named 'transformed_full.csv' into a DataFrame\n",
    "full_df = pd.read_csv(full_csv_path)\n",
    "\n",
    "# Save the DataFrame as a Parquet file\n",
    "full_df.to_parquet(full_parquet_path, index=False)"
   ]
  },
  {
   "cell_type": "markdown",
   "id": "0a978c3f",
   "metadata": {},
   "source": [
    "### *Section 3: Load Incremental Transformed Data and save as Parquet*"
   ]
  },
  {
   "cell_type": "code",
   "execution_count": 100,
   "id": "dcdc21e1",
   "metadata": {},
   "outputs": [],
   "source": [
    "# Reading the CSV file named 'transformed_incremental.csv' into a DataFrame\n",
    "incremental_df = pd.read_csv(incremental_csv_path)\n",
    "\n",
    "# Save the DataFrame as a Parquet file\n",
    "incremental_df.to_parquet(incremental_parquet_path, index=False)"
   ]
  },
  {
   "cell_type": "markdown",
   "id": "f991209a",
   "metadata": {},
   "source": [
    "### *Section 4: Verification*"
   ]
  },
  {
   "cell_type": "markdown",
   "id": "ce1e30cc",
   "metadata": {},
   "source": [
    "#### *Full_data*"
   ]
  },
  {
   "cell_type": "code",
   "execution_count": 101,
   "id": "cf739d5d",
   "metadata": {},
   "outputs": [
    {
     "data": {
      "text/html": [
       "<div>\n",
       "<style scoped>\n",
       "    .dataframe tbody tr th:only-of-type {\n",
       "        vertical-align: middle;\n",
       "    }\n",
       "\n",
       "    .dataframe tbody tr th {\n",
       "        vertical-align: top;\n",
       "    }\n",
       "\n",
       "    .dataframe thead th {\n",
       "        text-align: right;\n",
       "    }\n",
       "</style>\n",
       "<table border=\"1\" class=\"dataframe\">\n",
       "  <thead>\n",
       "    <tr style=\"text-align: right;\">\n",
       "      <th></th>\n",
       "      <th>sales_id</th>\n",
       "      <th>customer</th>\n",
       "      <th>date</th>\n",
       "      <th>car_make</th>\n",
       "      <th>car_model</th>\n",
       "      <th>year</th>\n",
       "      <th>mileage</th>\n",
       "      <th>price</th>\n",
       "      <th>payment_type</th>\n",
       "      <th>last_updated</th>\n",
       "      <th>mileage_bin</th>\n",
       "      <th>vehicle_age</th>\n",
       "    </tr>\n",
       "  </thead>\n",
       "  <tbody>\n",
       "    <tr>\n",
       "      <th>0</th>\n",
       "      <td>1</td>\n",
       "      <td>Enterprise Holdings</td>\n",
       "      <td>2025-04-02</td>\n",
       "      <td>Chevrolet</td>\n",
       "      <td>Cruze</td>\n",
       "      <td>2016</td>\n",
       "      <td>37796.0</td>\n",
       "      <td>6617</td>\n",
       "      <td>Loan</td>\n",
       "      <td>2025-04-02T11:32:00</td>\n",
       "      <td>Medium</td>\n",
       "      <td>9</td>\n",
       "    </tr>\n",
       "    <tr>\n",
       "      <th>1</th>\n",
       "      <td>2</td>\n",
       "      <td>Sonic Automotive</td>\n",
       "      <td>2025-04-02</td>\n",
       "      <td>Chevrolet</td>\n",
       "      <td>Malibu</td>\n",
       "      <td>2015</td>\n",
       "      <td>59473.0</td>\n",
       "      <td>17082</td>\n",
       "      <td>Cash</td>\n",
       "      <td>2025-04-02T23:36:00</td>\n",
       "      <td>Medium</td>\n",
       "      <td>10</td>\n",
       "    </tr>\n",
       "    <tr>\n",
       "      <th>2</th>\n",
       "      <td>3</td>\n",
       "      <td>AutoNation</td>\n",
       "      <td>2025-04-02</td>\n",
       "      <td>Hyundai</td>\n",
       "      <td>Tucson</td>\n",
       "      <td>2022</td>\n",
       "      <td>107555.0</td>\n",
       "      <td>13465</td>\n",
       "      <td>Loan</td>\n",
       "      <td>2025-04-02T02:47:00</td>\n",
       "      <td>Very High</td>\n",
       "      <td>3</td>\n",
       "    </tr>\n",
       "    <tr>\n",
       "      <th>3</th>\n",
       "      <td>4</td>\n",
       "      <td>AutoNation</td>\n",
       "      <td>2025-04-03</td>\n",
       "      <td>Hyundai</td>\n",
       "      <td>Elantra</td>\n",
       "      <td>2017</td>\n",
       "      <td>51594.0</td>\n",
       "      <td>6869</td>\n",
       "      <td>Unknown</td>\n",
       "      <td>2025-04-03T07:22:00</td>\n",
       "      <td>Medium</td>\n",
       "      <td>8</td>\n",
       "    </tr>\n",
       "    <tr>\n",
       "      <th>4</th>\n",
       "      <td>5</td>\n",
       "      <td>Enterprise Holdings</td>\n",
       "      <td>2025-04-03</td>\n",
       "      <td>Chevrolet</td>\n",
       "      <td>Cruze</td>\n",
       "      <td>2015</td>\n",
       "      <td>101145.0</td>\n",
       "      <td>17529</td>\n",
       "      <td>Loan</td>\n",
       "      <td>2025-04-03T20:08:00</td>\n",
       "      <td>Very High</td>\n",
       "      <td>10</td>\n",
       "    </tr>\n",
       "  </tbody>\n",
       "</table>\n",
       "</div>"
      ],
      "text/plain": [
       "   sales_id             customer        date   car_make car_model  year  \\\n",
       "0         1  Enterprise Holdings  2025-04-02  Chevrolet     Cruze  2016   \n",
       "1         2     Sonic Automotive  2025-04-02  Chevrolet    Malibu  2015   \n",
       "2         3           AutoNation  2025-04-02    Hyundai    Tucson  2022   \n",
       "3         4           AutoNation  2025-04-03    Hyundai   Elantra  2017   \n",
       "4         5  Enterprise Holdings  2025-04-03  Chevrolet     Cruze  2015   \n",
       "\n",
       "    mileage  price payment_type         last_updated mileage_bin  vehicle_age  \n",
       "0   37796.0   6617         Loan  2025-04-02T11:32:00      Medium            9  \n",
       "1   59473.0  17082         Cash  2025-04-02T23:36:00      Medium           10  \n",
       "2  107555.0  13465         Loan  2025-04-02T02:47:00   Very High            3  \n",
       "3   51594.0   6869      Unknown  2025-04-03T07:22:00      Medium            8  \n",
       "4  101145.0  17529         Loan  2025-04-03T20:08:00   Very High           10  "
      ]
     },
     "execution_count": 101,
     "metadata": {},
     "output_type": "execute_result"
    }
   ],
   "source": [
    "# Load the saved full_data.parquet file into a DataFrame\n",
    "full_parquet_df = pd.read_parquet('loaded_data/full_data.parquet')\n",
    "# Display the first 5 rows of the full dataset\n",
    "full_parquet_df.head()"
   ]
  },
  {
   "cell_type": "markdown",
   "id": "623df2f1",
   "metadata": {},
   "source": [
    "#### *Incremental_data*\n"
   ]
  },
  {
   "cell_type": "code",
   "execution_count": 102,
   "id": "b3f0c8b9",
   "metadata": {},
   "outputs": [
    {
     "data": {
      "text/html": [
       "<div>\n",
       "<style scoped>\n",
       "    .dataframe tbody tr th:only-of-type {\n",
       "        vertical-align: middle;\n",
       "    }\n",
       "\n",
       "    .dataframe tbody tr th {\n",
       "        vertical-align: top;\n",
       "    }\n",
       "\n",
       "    .dataframe thead th {\n",
       "        text-align: right;\n",
       "    }\n",
       "</style>\n",
       "<table border=\"1\" class=\"dataframe\">\n",
       "  <thead>\n",
       "    <tr style=\"text-align: right;\">\n",
       "      <th></th>\n",
       "      <th>sales_id</th>\n",
       "      <th>customer</th>\n",
       "      <th>date</th>\n",
       "      <th>car_make</th>\n",
       "      <th>car_model</th>\n",
       "      <th>year</th>\n",
       "      <th>mileage</th>\n",
       "      <th>price</th>\n",
       "      <th>payment_type</th>\n",
       "      <th>last_updated</th>\n",
       "      <th>mileage_bin</th>\n",
       "      <th>vehicle_age</th>\n",
       "    </tr>\n",
       "  </thead>\n",
       "  <tbody>\n",
       "    <tr>\n",
       "      <th>0</th>\n",
       "      <td>1</td>\n",
       "      <td>Manheim</td>\n",
       "      <td>2025-04-20</td>\n",
       "      <td>Ford</td>\n",
       "      <td>Fusion</td>\n",
       "      <td>2023</td>\n",
       "      <td>57157.0</td>\n",
       "      <td>13421</td>\n",
       "      <td>Cash</td>\n",
       "      <td>2025-04-20 14:23:00</td>\n",
       "      <td>Medium</td>\n",
       "      <td>2</td>\n",
       "    </tr>\n",
       "    <tr>\n",
       "      <th>1</th>\n",
       "      <td>2</td>\n",
       "      <td>Avis Budget Group</td>\n",
       "      <td>2025-04-20</td>\n",
       "      <td>Hyundai</td>\n",
       "      <td>Tucson</td>\n",
       "      <td>2018</td>\n",
       "      <td>55113.0</td>\n",
       "      <td>12624</td>\n",
       "      <td>Credit</td>\n",
       "      <td>2025-04-20 18:40:00</td>\n",
       "      <td>Medium</td>\n",
       "      <td>7</td>\n",
       "    </tr>\n",
       "    <tr>\n",
       "      <th>2</th>\n",
       "      <td>3</td>\n",
       "      <td>Penske Automotive</td>\n",
       "      <td>2025-04-21</td>\n",
       "      <td>Hyundai</td>\n",
       "      <td>Santa Fe</td>\n",
       "      <td>2020</td>\n",
       "      <td>84985.0</td>\n",
       "      <td>14915</td>\n",
       "      <td>Cash</td>\n",
       "      <td>2025-04-21 11:25:00</td>\n",
       "      <td>High</td>\n",
       "      <td>5</td>\n",
       "    </tr>\n",
       "    <tr>\n",
       "      <th>3</th>\n",
       "      <td>4</td>\n",
       "      <td>Copart</td>\n",
       "      <td>2025-04-21</td>\n",
       "      <td>Ford</td>\n",
       "      <td>Escape</td>\n",
       "      <td>2023</td>\n",
       "      <td>13990.0</td>\n",
       "      <td>21063</td>\n",
       "      <td>Loan</td>\n",
       "      <td>2025-04-21 13:47:00</td>\n",
       "      <td>Low</td>\n",
       "      <td>2</td>\n",
       "    </tr>\n",
       "    <tr>\n",
       "      <th>4</th>\n",
       "      <td>5</td>\n",
       "      <td>Manheim</td>\n",
       "      <td>2025-04-21</td>\n",
       "      <td>Honda</td>\n",
       "      <td>CR-V</td>\n",
       "      <td>2018</td>\n",
       "      <td>NaN</td>\n",
       "      <td>6215</td>\n",
       "      <td>Cash</td>\n",
       "      <td>2025-04-21 18:16:00</td>\n",
       "      <td>None</td>\n",
       "      <td>7</td>\n",
       "    </tr>\n",
       "  </tbody>\n",
       "</table>\n",
       "</div>"
      ],
      "text/plain": [
       "   sales_id           customer        date car_make car_model  year  mileage  \\\n",
       "0         1            Manheim  2025-04-20     Ford    Fusion  2023  57157.0   \n",
       "1         2  Avis Budget Group  2025-04-20  Hyundai    Tucson  2018  55113.0   \n",
       "2         3  Penske Automotive  2025-04-21  Hyundai  Santa Fe  2020  84985.0   \n",
       "3         4             Copart  2025-04-21     Ford    Escape  2023  13990.0   \n",
       "4         5            Manheim  2025-04-21    Honda      CR-V  2018      NaN   \n",
       "\n",
       "   price payment_type         last_updated mileage_bin  vehicle_age  \n",
       "0  13421         Cash  2025-04-20 14:23:00      Medium            2  \n",
       "1  12624       Credit  2025-04-20 18:40:00      Medium            7  \n",
       "2  14915         Cash  2025-04-21 11:25:00        High            5  \n",
       "3  21063         Loan  2025-04-21 13:47:00         Low            2  \n",
       "4   6215         Cash  2025-04-21 18:16:00        None            7  "
      ]
     },
     "execution_count": 102,
     "metadata": {},
     "output_type": "execute_result"
    }
   ],
   "source": [
    "# Load the saved incremental_data.parquet file into a DataFrame\n",
    "incremental_parquet_df = pd.read_parquet('loaded_data/incremental_data.parquet')\n",
    "\n",
    "# Display the first 5 rows of the incremental dataset\n",
    "incremental_parquet_df.head()\n"
   ]
  }
 ],
 "metadata": {
  "kernelspec": {
   "display_name": "base",
   "language": "python",
   "name": "python3"
  },
  "language_info": {
   "codemirror_mode": {
    "name": "ipython",
    "version": 3
   },
   "file_extension": ".py",
   "mimetype": "text/x-python",
   "name": "python",
   "nbconvert_exporter": "python",
   "pygments_lexer": "ipython3",
   "version": "3.12.7"
  }
 },
 "nbformat": 4,
 "nbformat_minor": 5
}
