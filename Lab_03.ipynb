{
  "metadata": {
    "kernelspec": {
      "name": "python",
      "display_name": "Python (Pyodide)",
      "language": "python"
    },
    "language_info": {
      "codemirror_mode": {
        "name": "python",
        "version": 3
      },
      "file_extension": ".py",
      "mimetype": "text/x-python",
      "name": "python",
      "nbconvert_exporter": "python",
      "pygments_lexer": "ipython3",
      "version": "3.8"
    }
  },
  "nbformat_minor": 5,
  "nbformat": 4,
  "cells": [
    {
      "id": "7619bbc1-8d51-4e8a-9c47-6c5ba3a57e50",
      "cell_type": "markdown",
      "source": "### Lab_03",
      "metadata": {}
    },
    {
      "id": "d1f24ce3-57f5-4c01-9c89-96ab6bf9dbeb",
      "cell_type": "markdown",
      "source": "### STEP 1: GET A BIGGER DATASET",
      "metadata": {}
    },
    {
      "id": "f99c1ad4-d01c-4752-ba03-2148a726702f",
      "cell_type": "markdown",
      "source": " ### Generate the dataset:\n",
      "metadata": {}
    },
    {
      "id": "3c378bbc-6792-4bc0-bd9d-0de41813fb45",
      "cell_type": "code",
      "source": "import pandas as pd\nimport numpy as np\nfrom datetime import datetime, timedelta\nimport random\n# Simulate 60 days of data\ncustomers = ['Amazon', 'Walmart', 'Target', 'Costco', 'BestBuy', 'eBay']\ndata = []\nstart_date = datetime(2025, 4, 1)\nfor i in range(1, 61):\n    date = start_date + timedelta(days=i)\n    for _ in range(random.randint(3, 6)):  # 3–6 sales per day\n        data.append({\n            'id': random.randint(1000, 9999),\n            'customer': random.choice(customers),\n            'date': date.date().isoformat(),\n            'amount': random.randint(100, 2000),\n            'last_updated': (date + timedelta(hours=random.randint(0, 23),\n                                              minutes=random.randint(0, 59))).isoformat()\n        })\ndf = pd.DataFrame(data)\ndf.to_csv('sales_data_large.csv', index=False)\ndf.head()\n",
      "metadata": {
        "trusted": true
      },
      "outputs": [
        {
          "execution_count": 1,
          "output_type": "execute_result",
          "data": {
            "text/plain": "     id customer        date  amount         last_updated\n0  8983   Costco  2025-04-02     604  2025-04-02T02:22:00\n1  8601   Costco  2025-04-02     416  2025-04-02T02:13:00\n2  9833     eBay  2025-04-02    1501  2025-04-02T17:54:00\n3  6071  Walmart  2025-04-02     711  2025-04-02T21:45:00\n4  2268   Target  2025-04-03     513  2025-04-03T07:27:00",
            "text/html": "<div>\n<style scoped>\n    .dataframe tbody tr th:only-of-type {\n        vertical-align: middle;\n    }\n\n    .dataframe tbody tr th {\n        vertical-align: top;\n    }\n\n    .dataframe thead th {\n        text-align: right;\n    }\n</style>\n<table border=\"1\" class=\"dataframe\">\n  <thead>\n    <tr style=\"text-align: right;\">\n      <th></th>\n      <th>id</th>\n      <th>customer</th>\n      <th>date</th>\n      <th>amount</th>\n      <th>last_updated</th>\n    </tr>\n  </thead>\n  <tbody>\n    <tr>\n      <th>0</th>\n      <td>8983</td>\n      <td>Costco</td>\n      <td>2025-04-02</td>\n      <td>604</td>\n      <td>2025-04-02T02:22:00</td>\n    </tr>\n    <tr>\n      <th>1</th>\n      <td>8601</td>\n      <td>Costco</td>\n      <td>2025-04-02</td>\n      <td>416</td>\n      <td>2025-04-02T02:13:00</td>\n    </tr>\n    <tr>\n      <th>2</th>\n      <td>9833</td>\n      <td>eBay</td>\n      <td>2025-04-02</td>\n      <td>1501</td>\n      <td>2025-04-02T17:54:00</td>\n    </tr>\n    <tr>\n      <th>3</th>\n      <td>6071</td>\n      <td>Walmart</td>\n      <td>2025-04-02</td>\n      <td>711</td>\n      <td>2025-04-02T21:45:00</td>\n    </tr>\n    <tr>\n      <th>4</th>\n      <td>2268</td>\n      <td>Target</td>\n      <td>2025-04-03</td>\n      <td>513</td>\n      <td>2025-04-03T07:27:00</td>\n    </tr>\n  </tbody>\n</table>\n</div>"
          },
          "metadata": {}
        }
      ],
      "execution_count": 1
    },
    {
      "id": "43d6b150-121e-4359-af22-d7c63ce44632",
      "cell_type": "markdown",
      "source": " ###  STEP 2: FULL EXTRACTION",
      "metadata": {}
    },
    {
      "id": "958521a0-375a-4dd6-b651-2f41af20a4d1",
      "cell_type": "code",
      "source": "# FULL EXTRACTION\ndf_full = pd.read_csv(\"sales_data_large.csv\", parse_dates=[\"last_updated\"])\nprint(f\"Pulled {len(df_full)} rows via full extraction.\")\ndf_full.head()\n",
      "metadata": {
        "trusted": true
      },
      "outputs": [
        {
          "name": "stdout",
          "output_type": "stream",
          "text": "Pulled 285 rows via full extraction.\n"
        },
        {
          "execution_count": 2,
          "output_type": "execute_result",
          "data": {
            "text/plain": "     id customer        date  amount        last_updated\n0  8983   Costco  2025-04-02     604 2025-04-02 02:22:00\n1  8601   Costco  2025-04-02     416 2025-04-02 02:13:00\n2  9833     eBay  2025-04-02    1501 2025-04-02 17:54:00\n3  6071  Walmart  2025-04-02     711 2025-04-02 21:45:00\n4  2268   Target  2025-04-03     513 2025-04-03 07:27:00",
            "text/html": "<div>\n<style scoped>\n    .dataframe tbody tr th:only-of-type {\n        vertical-align: middle;\n    }\n\n    .dataframe tbody tr th {\n        vertical-align: top;\n    }\n\n    .dataframe thead th {\n        text-align: right;\n    }\n</style>\n<table border=\"1\" class=\"dataframe\">\n  <thead>\n    <tr style=\"text-align: right;\">\n      <th></th>\n      <th>id</th>\n      <th>customer</th>\n      <th>date</th>\n      <th>amount</th>\n      <th>last_updated</th>\n    </tr>\n  </thead>\n  <tbody>\n    <tr>\n      <th>0</th>\n      <td>8983</td>\n      <td>Costco</td>\n      <td>2025-04-02</td>\n      <td>604</td>\n      <td>2025-04-02 02:22:00</td>\n    </tr>\n    <tr>\n      <th>1</th>\n      <td>8601</td>\n      <td>Costco</td>\n      <td>2025-04-02</td>\n      <td>416</td>\n      <td>2025-04-02 02:13:00</td>\n    </tr>\n    <tr>\n      <th>2</th>\n      <td>9833</td>\n      <td>eBay</td>\n      <td>2025-04-02</td>\n      <td>1501</td>\n      <td>2025-04-02 17:54:00</td>\n    </tr>\n    <tr>\n      <th>3</th>\n      <td>6071</td>\n      <td>Walmart</td>\n      <td>2025-04-02</td>\n      <td>711</td>\n      <td>2025-04-02 21:45:00</td>\n    </tr>\n    <tr>\n      <th>4</th>\n      <td>2268</td>\n      <td>Target</td>\n      <td>2025-04-03</td>\n      <td>513</td>\n      <td>2025-04-03 07:27:00</td>\n    </tr>\n  </tbody>\n</table>\n</div>"
          },
          "metadata": {}
        }
      ],
      "execution_count": 2
    },
    {
      "id": "09d08159-5dbd-4b69-a9a8-1177e879ee9d",
      "cell_type": "markdown",
      "source": "### STEP 3: INCREMENTAL EXTRACTION",
      "metadata": {}
    },
    {
      "id": "6eeb5115-1f14-4e68-b43a-cd924ca90b56",
      "cell_type": "markdown",
      "source": "### Create your tracking file",
      "metadata": {}
    },
    {
      "id": "f2496e1c-86dc-4672-beb4-dc70b687387e",
      "cell_type": "code",
      "source": "# Set initial last extraction time (e.g., halfway through the data range)\nwith open(\"last_extraction.txt\", \"w\") as f:\n    f.write(\"2025-04-20 12:00:00\") ",
      "metadata": {
        "trusted": true
      },
      "outputs": [],
      "execution_count": 4
    },
    {
      "id": "cb6cc4a2-a75a-475e-9f78-e42486487e6c",
      "cell_type": "code",
      "source": "# INCREMENTAL EXTRACTION\nwith open(\"last_extraction.txt\", \"r\") as f:\n    last_extraction = f.read().strip()\ndf = pd.read_csv(\"sales_data_large.csv\", parse_dates=[\"last_updated\"])\nlast_extraction_time = pd.to_datetime(last_extraction)\ndf_incremental = df[df['last_updated'] > last_extraction_time]\nprint(f\"Pulled {len(df_incremental)} new/updated rows since {last_extraction}.\")\ndf_incremental.head()\n",
      "metadata": {
        "trusted": true
      },
      "outputs": [
        {
          "name": "stdout",
          "output_type": "stream",
          "text": "Pulled 199 new/updated rows since 2025-04-20 12:00:00.\n"
        },
        {
          "execution_count": 5,
          "output_type": "execute_result",
          "data": {
            "text/plain": "      id customer        date  amount        last_updated\n86  3112   Costco  2025-04-21     417 2025-04-21 04:46:00\n87  3627     eBay  2025-04-21    1739 2025-04-21 18:21:00\n88  7261  Walmart  2025-04-21     177 2025-04-21 14:15:00\n89  3724   Amazon  2025-04-21    1316 2025-04-21 20:33:00\n90  4571   Amazon  2025-04-21    1563 2025-04-21 18:06:00",
            "text/html": "<div>\n<style scoped>\n    .dataframe tbody tr th:only-of-type {\n        vertical-align: middle;\n    }\n\n    .dataframe tbody tr th {\n        vertical-align: top;\n    }\n\n    .dataframe thead th {\n        text-align: right;\n    }\n</style>\n<table border=\"1\" class=\"dataframe\">\n  <thead>\n    <tr style=\"text-align: right;\">\n      <th></th>\n      <th>id</th>\n      <th>customer</th>\n      <th>date</th>\n      <th>amount</th>\n      <th>last_updated</th>\n    </tr>\n  </thead>\n  <tbody>\n    <tr>\n      <th>86</th>\n      <td>3112</td>\n      <td>Costco</td>\n      <td>2025-04-21</td>\n      <td>417</td>\n      <td>2025-04-21 04:46:00</td>\n    </tr>\n    <tr>\n      <th>87</th>\n      <td>3627</td>\n      <td>eBay</td>\n      <td>2025-04-21</td>\n      <td>1739</td>\n      <td>2025-04-21 18:21:00</td>\n    </tr>\n    <tr>\n      <th>88</th>\n      <td>7261</td>\n      <td>Walmart</td>\n      <td>2025-04-21</td>\n      <td>177</td>\n      <td>2025-04-21 14:15:00</td>\n    </tr>\n    <tr>\n      <th>89</th>\n      <td>3724</td>\n      <td>Amazon</td>\n      <td>2025-04-21</td>\n      <td>1316</td>\n      <td>2025-04-21 20:33:00</td>\n    </tr>\n    <tr>\n      <th>90</th>\n      <td>4571</td>\n      <td>Amazon</td>\n      <td>2025-04-21</td>\n      <td>1563</td>\n      <td>2025-04-21 18:06:00</td>\n    </tr>\n  </tbody>\n</table>\n</div>"
          },
          "metadata": {}
        }
      ],
      "execution_count": 5
    },
    {
      "id": "3a5428d2-aa59-47e4-9f9b-e7979ad50b3c",
      "cell_type": "markdown",
      "source": "### Update the last_extraction.txt",
      "metadata": {}
    },
    {
      "id": "2848b4bf-e045-4dfa-a974-97794f796725",
      "cell_type": "code",
      "source": "# Get the most recent update\nnew_checkpoint = df['last_updated'].max()\n# Save it\nwith open(\"last_extraction.txt\", \"w\") as f:\n    f.write(new_checkpoint.isoformat())\nprint(f\"Updated last_extraction.txt to {new_checkpoint}\")",
      "metadata": {
        "trusted": true
      },
      "outputs": [
        {
          "name": "stdout",
          "output_type": "stream",
          "text": "Updated last_extraction.txt to 2025-05-31 22:25:00\n"
        }
      ],
      "execution_count": 6
    }
  ]
}