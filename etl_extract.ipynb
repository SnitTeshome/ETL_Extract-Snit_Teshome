{
  "cells": [
    {
      "cell_type": "markdown",
      "id": "7619bbc1-8d51-4e8a-9c47-6c5ba3a57e50",
      "metadata": {},
      "source": [
        "## *LAB 3  Practicing Extraction in ETL*"
      ]
    },
    {
      "cell_type": "markdown",
      "id": "f14d555a",
      "metadata": {},
      "source": [
        "### *Historical Description of the Car Sales Dataset*\n",
        "- *This dataset represents simulated used car sales data  used car sales data over two months (April–May 2025). It includes purchases by major automotive dealers, rental companies, and vehicle auction services such as AutoNation, CarMax, Enterprise Holdings, and Manheim.*\n",
        "\n",
        "- *The dataset features popular car brands like Toyota, Honda, Ford, Hyundai, and Chevrolet, with model years ranging from 2015 to 2023. It records key details such as vehicle age, mileage, price, and payment types, offering a realistic view of market diversity and buyer preferences.*\n"
      ]
    },
    {
      "cell_type": "markdown",
      "id": "0be4c8dd",
      "metadata": {},
      "source": [
        "#### *Key Attributes*\n",
        "\n",
        "*`Date of Sale:` The date on which the car transaction occurred, showing when the vehicle was purchased.*\n",
        "\n",
        "*`Dealer:` Represents the company or automotive group that sold or distributed the vehicle.*\n",
        "\n",
        "*`Car Make and Model:` Describes the manufacturer (e.g., Toyota, Ford) and specific model of the vehicle, indicating brand preference and market variety.*\n",
        "\n",
        "*`Manufacture Year:` Indicates the year the vehicle was made, providing context for its age and potential value depreciation.*\n",
        "\n",
        "*`Odometer Reading:` Shows the total distance the vehicle had traveled before the sale, an important factor influencing its condition and price.*\n",
        "\n",
        "*`Sale Price:` The amount (in USD) for which the vehicle was sold, indicating market demand and valuation.*\n",
        "\n",
        "*`Payment Method:` Specifies how the transaction was completed—via cash, credit, or loan—reflecting diverse financing choices.*\n",
        "\n",
        "*`Last Updated:` The timestamp of the most recent update to the record, helping track edits or corrections.*"
      ]
    },
    {
      "cell_type": "markdown",
      "id": "766fdecd",
      "metadata": {},
      "source": [
        "#### Import libraries"
      ]
    },
    {
      "cell_type": "code",
      "execution_count": 30,
      "id": "9824c9ea",
      "metadata": {},
      "outputs": [],
      "source": [
        "import pandas as pd\n",
        "import numpy as np\n",
        "from datetime import datetime, timedelta\n",
        "import random"
      ]
    },
    {
      "cell_type": "markdown",
      "id": "d1f24ce3-57f5-4c01-9c89-96ab6bf9dbeb",
      "metadata": {},
      "source": [
        "### `STEP 1: Generate synthetic data`"
      ]
    },
    {
      "cell_type": "code",
      "execution_count": 31,
      "id": "3c378bbc-6792-4bc0-bd9d-0de41813fb45",
      "metadata": {
        "trusted": true
      },
      "outputs": [],
      "source": [
        "# Generate Car Sales Dataset\n",
        "dealers = ['AutoNation', 'CarMax', 'Penske Automotive', 'Lithia Motors', 'Sonic Automotive', \n",
        "           'Enterprise Holdings', 'Hertz Global Holdings', 'Avis Budget Group', 'Manheim', 'Copart']\n",
        "\n",
        "car_inventory = {\n",
        "    'Toyota': ['Corolla', 'Camry', 'RAV4'],\n",
        "    'Honda': ['Civic', 'Accord', 'CR-V'],\n",
        "    'Ford': ['Focus', 'Fusion', 'Escape'],\n",
        "    'Hyundai': ['Elantra', 'Tucson', 'Santa Fe'],\n",
        "    'Chevrolet': ['Malibu', 'Cruze', 'Equinox']\n",
        "}\n",
        "\n",
        "payment_methods = ['Cash', 'Credit', 'Loan']\n",
        "\n",
        "sales_records = []\n",
        "start_date = datetime(2025, 4, 1)\n",
        "for day_offset in range(1, 61):\n",
        "    current_date = start_date + timedelta(days=day_offset)\n",
        "    for _ in range(random.randint(3, 6)):\n",
        "        make = random.choice(list(car_inventory.keys()))\n",
        "        model = random.choice(car_inventory[make])\n",
        "        manufacture_year = random.randint(2015, 2023)\n",
        "        odometer_reading = random.randint(10000, 120000)\n",
        "        sale_price = random.randint(5000, 25000)\n",
        "        sales_records.append({\n",
        "            'id': random.randint(10000, 99999),\n",
        "            'customer': random.choice(dealers),\n",
        "            'date': current_date.date().isoformat(),\n",
        "            'car_make': make,\n",
        "            'car_model': model,\n",
        "            'year': manufacture_year,\n",
        "            'mileage': odometer_reading,\n",
        "            'price': sale_price,\n",
        "            'payment_type': random.choice(payment_methods),\n",
        "            'last_updated': (current_date + timedelta(hours=random.randint(0, 23),\n",
        "                                                      minutes=random.randint(0, 59))).isoformat()\n",
        "        })"
      ]
    },
    {
      "cell_type": "markdown",
      "id": "e3f8bec1-2809-49f1-a589-649b67fb1e92",
      "metadata": {},
      "source": [
        "####  Create DataFrame"
      ]
    },
    {
      "cell_type": "code",
      "execution_count": 32,
      "id": "65fca598-ad72-4420-9661-2b70e5918042",
      "metadata": {
        "trusted": true
      },
      "outputs": [
        {
          "data": {
            "text/html": [
              "<div>\n",
              "<style scoped>\n",
              "    .dataframe tbody tr th:only-of-type {\n",
              "        vertical-align: middle;\n",
              "    }\n",
              "\n",
              "    .dataframe tbody tr th {\n",
              "        vertical-align: top;\n",
              "    }\n",
              "\n",
              "    .dataframe thead th {\n",
              "        text-align: right;\n",
              "    }\n",
              "</style>\n",
              "<table border=\"1\" class=\"dataframe\">\n",
              "  <thead>\n",
              "    <tr style=\"text-align: right;\">\n",
              "      <th></th>\n",
              "      <th>id</th>\n",
              "      <th>customer</th>\n",
              "      <th>date</th>\n",
              "      <th>car_make</th>\n",
              "      <th>car_model</th>\n",
              "      <th>year</th>\n",
              "      <th>mileage</th>\n",
              "      <th>price</th>\n",
              "      <th>payment_type</th>\n",
              "      <th>last_updated</th>\n",
              "    </tr>\n",
              "  </thead>\n",
              "  <tbody>\n",
              "    <tr>\n",
              "      <th>0</th>\n",
              "      <td>58160</td>\n",
              "      <td>Copart</td>\n",
              "      <td>2025-04-02</td>\n",
              "      <td>Toyota</td>\n",
              "      <td>RAV4</td>\n",
              "      <td>2015</td>\n",
              "      <td>118857</td>\n",
              "      <td>8918</td>\n",
              "      <td>Cash</td>\n",
              "      <td>2025-04-02T23:57:00</td>\n",
              "    </tr>\n",
              "    <tr>\n",
              "      <th>1</th>\n",
              "      <td>95195</td>\n",
              "      <td>Penske Automotive</td>\n",
              "      <td>2025-04-02</td>\n",
              "      <td>Ford</td>\n",
              "      <td>Escape</td>\n",
              "      <td>2019</td>\n",
              "      <td>32204</td>\n",
              "      <td>9082</td>\n",
              "      <td>Credit</td>\n",
              "      <td>2025-04-02T22:25:00</td>\n",
              "    </tr>\n",
              "    <tr>\n",
              "      <th>2</th>\n",
              "      <td>45498</td>\n",
              "      <td>Sonic Automotive</td>\n",
              "      <td>2025-04-02</td>\n",
              "      <td>Toyota</td>\n",
              "      <td>Camry</td>\n",
              "      <td>2022</td>\n",
              "      <td>15750</td>\n",
              "      <td>18686</td>\n",
              "      <td>Loan</td>\n",
              "      <td>2025-04-02T08:42:00</td>\n",
              "    </tr>\n",
              "    <tr>\n",
              "      <th>3</th>\n",
              "      <td>17218</td>\n",
              "      <td>Copart</td>\n",
              "      <td>2025-04-03</td>\n",
              "      <td>Ford</td>\n",
              "      <td>Fusion</td>\n",
              "      <td>2021</td>\n",
              "      <td>112832</td>\n",
              "      <td>8614</td>\n",
              "      <td>Cash</td>\n",
              "      <td>2025-04-03T21:15:00</td>\n",
              "    </tr>\n",
              "    <tr>\n",
              "      <th>4</th>\n",
              "      <td>72832</td>\n",
              "      <td>Sonic Automotive</td>\n",
              "      <td>2025-04-03</td>\n",
              "      <td>Chevrolet</td>\n",
              "      <td>Equinox</td>\n",
              "      <td>2017</td>\n",
              "      <td>28635</td>\n",
              "      <td>17484</td>\n",
              "      <td>Credit</td>\n",
              "      <td>2025-04-03T16:48:00</td>\n",
              "    </tr>\n",
              "    <tr>\n",
              "      <th>5</th>\n",
              "      <td>13931</td>\n",
              "      <td>CarMax</td>\n",
              "      <td>2025-04-03</td>\n",
              "      <td>Hyundai</td>\n",
              "      <td>Elantra</td>\n",
              "      <td>2022</td>\n",
              "      <td>22931</td>\n",
              "      <td>13564</td>\n",
              "      <td>Cash</td>\n",
              "      <td>2025-04-03T09:33:00</td>\n",
              "    </tr>\n",
              "    <tr>\n",
              "      <th>6</th>\n",
              "      <td>63815</td>\n",
              "      <td>Copart</td>\n",
              "      <td>2025-04-03</td>\n",
              "      <td>Chevrolet</td>\n",
              "      <td>Cruze</td>\n",
              "      <td>2021</td>\n",
              "      <td>114482</td>\n",
              "      <td>19676</td>\n",
              "      <td>Credit</td>\n",
              "      <td>2025-04-03T07:53:00</td>\n",
              "    </tr>\n",
              "    <tr>\n",
              "      <th>7</th>\n",
              "      <td>58243</td>\n",
              "      <td>Avis Budget Group</td>\n",
              "      <td>2025-04-03</td>\n",
              "      <td>Toyota</td>\n",
              "      <td>Camry</td>\n",
              "      <td>2023</td>\n",
              "      <td>41100</td>\n",
              "      <td>23754</td>\n",
              "      <td>Loan</td>\n",
              "      <td>2025-04-03T01:19:00</td>\n",
              "    </tr>\n",
              "    <tr>\n",
              "      <th>8</th>\n",
              "      <td>23412</td>\n",
              "      <td>Manheim</td>\n",
              "      <td>2025-04-04</td>\n",
              "      <td>Hyundai</td>\n",
              "      <td>Tucson</td>\n",
              "      <td>2020</td>\n",
              "      <td>64140</td>\n",
              "      <td>20911</td>\n",
              "      <td>Loan</td>\n",
              "      <td>2025-04-04T08:47:00</td>\n",
              "    </tr>\n",
              "    <tr>\n",
              "      <th>9</th>\n",
              "      <td>98906</td>\n",
              "      <td>Copart</td>\n",
              "      <td>2025-04-04</td>\n",
              "      <td>Honda</td>\n",
              "      <td>Civic</td>\n",
              "      <td>2016</td>\n",
              "      <td>37805</td>\n",
              "      <td>5136</td>\n",
              "      <td>Loan</td>\n",
              "      <td>2025-04-04T23:33:00</td>\n",
              "    </tr>\n",
              "  </tbody>\n",
              "</table>\n",
              "</div>"
            ],
            "text/plain": [
              "      id           customer        date   car_make car_model  year  mileage  \\\n",
              "0  58160             Copart  2025-04-02     Toyota      RAV4  2015   118857   \n",
              "1  95195  Penske Automotive  2025-04-02       Ford    Escape  2019    32204   \n",
              "2  45498   Sonic Automotive  2025-04-02     Toyota     Camry  2022    15750   \n",
              "3  17218             Copart  2025-04-03       Ford    Fusion  2021   112832   \n",
              "4  72832   Sonic Automotive  2025-04-03  Chevrolet   Equinox  2017    28635   \n",
              "5  13931             CarMax  2025-04-03    Hyundai   Elantra  2022    22931   \n",
              "6  63815             Copart  2025-04-03  Chevrolet     Cruze  2021   114482   \n",
              "7  58243  Avis Budget Group  2025-04-03     Toyota     Camry  2023    41100   \n",
              "8  23412            Manheim  2025-04-04    Hyundai    Tucson  2020    64140   \n",
              "9  98906             Copart  2025-04-04      Honda     Civic  2016    37805   \n",
              "\n",
              "   price payment_type         last_updated  \n",
              "0   8918         Cash  2025-04-02T23:57:00  \n",
              "1   9082       Credit  2025-04-02T22:25:00  \n",
              "2  18686         Loan  2025-04-02T08:42:00  \n",
              "3   8614         Cash  2025-04-03T21:15:00  \n",
              "4  17484       Credit  2025-04-03T16:48:00  \n",
              "5  13564         Cash  2025-04-03T09:33:00  \n",
              "6  19676       Credit  2025-04-03T07:53:00  \n",
              "7  23754         Loan  2025-04-03T01:19:00  \n",
              "8  20911         Loan  2025-04-04T08:47:00  \n",
              "9   5136         Loan  2025-04-04T23:33:00  "
            ]
          },
          "execution_count": 32,
          "metadata": {},
          "output_type": "execute_result"
        }
      ],
      "source": [
        "# Create DataFrame\n",
        "df = pd.DataFrame(sales_records )\n",
        "\n",
        "# Save to CSV\n",
        "df.to_csv('car_sales_data_may_2025.csv', index=False)\n",
        "\n",
        "# Display the first 10 records\n",
        "df.head(10)\n"
      ]
    },
    {
      "cell_type": "code",
      "execution_count": 33,
      "id": "205a2968-56e8-4b2d-b110-bcc4413dc09f",
      "metadata": {
        "trusted": true
      },
      "outputs": [
        {
          "name": "stdout",
          "output_type": "stream",
          "text": [
            "Number of unique days with sales records: 60\n"
          ]
        }
      ],
      "source": [
        "# Count number of unique days\n",
        "unique_days = df['date'].nunique()\n",
        "print(f\"Number of unique days with sales records: {unique_days}\")"
      ]
    },
    {
      "cell_type": "markdown",
      "id": "43d6b150-121e-4359-af22-d7c63ce44632",
      "metadata": {},
      "source": [
        " ###  `Section 1: Full Extraction`"
      ]
    },
    {
      "cell_type": "markdown",
      "id": "39c40a05",
      "metadata": {},
      "source": [
        "**Full Extraction** *means retrieving the entire dataset from the data source every time the extraction process runs, without considering whether any data has changed since the last extraction. This approach ensures that you always have a complete and up-to-date copy of the dataset.*\n",
        "\n",
        "####  `What is done:`\n",
        "- *The entire dataset is read from the source (e.g., a CSV file, database).* \n",
        "- *All records, regardless of whether they are new, updated, or unchanged, are loaded into memory.* \n",
        "- *Basic information about the dataset (such as the number of rows and columns) and a sample of the data are optionally displayed to help verify the extraction and understand the data structure.*\n"
      ]
    },
    {
      "cell_type": "code",
      "execution_count": 34,
      "id": "b37d22be-27ca-4394-b3ba-a70cf12efec7",
      "metadata": {
        "trusted": true
      },
      "outputs": [
        {
          "name": "stdout",
          "output_type": "stream",
          "text": [
            "Pulled 259 rows via full extraction.\n",
            "Dataset shape: (259, 10)\n"
          ]
        }
      ],
      "source": [
        "# FULL EXTRACTION:Load entire dataset\n",
        "df_full = pd.read_csv(\"car_sales_data_may_2025.csv\", parse_dates=[\"last_updated\"])\n",
        "print(f\"Pulled {len(df_full)} rows via full extraction.\")\n",
        "\n",
        "# Show basic dataset info \n",
        "print(f\"Dataset shape: {df_full.shape}\") "
      ]
    },
    {
      "cell_type": "code",
      "execution_count": 35,
      "id": "35b95631",
      "metadata": {},
      "outputs": [
        {
          "name": "stdout",
          "output_type": "stream",
          "text": [
            "Columns: ['id', 'customer', 'date', 'car_make', 'car_model', 'year', 'mileage', 'price', 'payment_type', 'last_updated']\n"
          ]
        },
        {
          "data": {
            "text/html": [
              "<div>\n",
              "<style scoped>\n",
              "    .dataframe tbody tr th:only-of-type {\n",
              "        vertical-align: middle;\n",
              "    }\n",
              "\n",
              "    .dataframe tbody tr th {\n",
              "        vertical-align: top;\n",
              "    }\n",
              "\n",
              "    .dataframe thead th {\n",
              "        text-align: right;\n",
              "    }\n",
              "</style>\n",
              "<table border=\"1\" class=\"dataframe\">\n",
              "  <thead>\n",
              "    <tr style=\"text-align: right;\">\n",
              "      <th></th>\n",
              "      <th>id</th>\n",
              "      <th>customer</th>\n",
              "      <th>date</th>\n",
              "      <th>car_make</th>\n",
              "      <th>car_model</th>\n",
              "      <th>year</th>\n",
              "      <th>mileage</th>\n",
              "      <th>price</th>\n",
              "      <th>payment_type</th>\n",
              "      <th>last_updated</th>\n",
              "    </tr>\n",
              "  </thead>\n",
              "  <tbody>\n",
              "    <tr>\n",
              "      <th>0</th>\n",
              "      <td>58160</td>\n",
              "      <td>Copart</td>\n",
              "      <td>2025-04-02</td>\n",
              "      <td>Toyota</td>\n",
              "      <td>RAV4</td>\n",
              "      <td>2015</td>\n",
              "      <td>118857</td>\n",
              "      <td>8918</td>\n",
              "      <td>Cash</td>\n",
              "      <td>2025-04-02 23:57:00</td>\n",
              "    </tr>\n",
              "    <tr>\n",
              "      <th>1</th>\n",
              "      <td>95195</td>\n",
              "      <td>Penske Automotive</td>\n",
              "      <td>2025-04-02</td>\n",
              "      <td>Ford</td>\n",
              "      <td>Escape</td>\n",
              "      <td>2019</td>\n",
              "      <td>32204</td>\n",
              "      <td>9082</td>\n",
              "      <td>Credit</td>\n",
              "      <td>2025-04-02 22:25:00</td>\n",
              "    </tr>\n",
              "    <tr>\n",
              "      <th>2</th>\n",
              "      <td>45498</td>\n",
              "      <td>Sonic Automotive</td>\n",
              "      <td>2025-04-02</td>\n",
              "      <td>Toyota</td>\n",
              "      <td>Camry</td>\n",
              "      <td>2022</td>\n",
              "      <td>15750</td>\n",
              "      <td>18686</td>\n",
              "      <td>Loan</td>\n",
              "      <td>2025-04-02 08:42:00</td>\n",
              "    </tr>\n",
              "    <tr>\n",
              "      <th>3</th>\n",
              "      <td>17218</td>\n",
              "      <td>Copart</td>\n",
              "      <td>2025-04-03</td>\n",
              "      <td>Ford</td>\n",
              "      <td>Fusion</td>\n",
              "      <td>2021</td>\n",
              "      <td>112832</td>\n",
              "      <td>8614</td>\n",
              "      <td>Cash</td>\n",
              "      <td>2025-04-03 21:15:00</td>\n",
              "    </tr>\n",
              "    <tr>\n",
              "      <th>4</th>\n",
              "      <td>72832</td>\n",
              "      <td>Sonic Automotive</td>\n",
              "      <td>2025-04-03</td>\n",
              "      <td>Chevrolet</td>\n",
              "      <td>Equinox</td>\n",
              "      <td>2017</td>\n",
              "      <td>28635</td>\n",
              "      <td>17484</td>\n",
              "      <td>Credit</td>\n",
              "      <td>2025-04-03 16:48:00</td>\n",
              "    </tr>\n",
              "  </tbody>\n",
              "</table>\n",
              "</div>"
            ],
            "text/plain": [
              "      id           customer        date   car_make car_model  year  mileage  \\\n",
              "0  58160             Copart  2025-04-02     Toyota      RAV4  2015   118857   \n",
              "1  95195  Penske Automotive  2025-04-02       Ford    Escape  2019    32204   \n",
              "2  45498   Sonic Automotive  2025-04-02     Toyota     Camry  2022    15750   \n",
              "3  17218             Copart  2025-04-03       Ford    Fusion  2021   112832   \n",
              "4  72832   Sonic Automotive  2025-04-03  Chevrolet   Equinox  2017    28635   \n",
              "\n",
              "   price payment_type        last_updated  \n",
              "0   8918         Cash 2025-04-02 23:57:00  \n",
              "1   9082       Credit 2025-04-02 22:25:00  \n",
              "2  18686         Loan 2025-04-02 08:42:00  \n",
              "3   8614         Cash 2025-04-03 21:15:00  \n",
              "4  17484       Credit 2025-04-03 16:48:00  "
            ]
          },
          "execution_count": 35,
          "metadata": {},
          "output_type": "execute_result"
        }
      ],
      "source": [
        "print(\"Columns:\", df_full.columns.tolist())\n",
        "df_full.head(5)"
      ]
    },
    {
      "cell_type": "code",
      "execution_count": 43,
      "id": "7d4cf55b",
      "metadata": {},
      "outputs": [
        {
          "name": "stdout",
          "output_type": "stream",
          "text": [
            "Incremental extraction output saved as 'Full_extraction_output.csv'.\n"
          ]
        }
      ],
      "source": [
        "#full_extraction_ containing the results as csv file\n",
        "df.to_csv('full_extraction_output.csv', index=False)\n",
        "\n",
        "# Save incremental extraction results to CSV\n",
        "print(\"Incremental extraction output saved as 'Full_extraction_output.csv'.\")\n"
      ]
    },
    {
      "cell_type": "markdown",
      "id": "13bc5e5e-ef04-432c-97a5-5051d8ad9cb0",
      "metadata": {},
      "source": [
        "### `Section 2: Incremental Extraction`"
      ]
    },
    {
      "cell_type": "markdown",
      "id": "fef35e9e",
      "metadata": {},
      "source": [
        "*Extract only new or updated records since the last extraction, based on a timestamp.*\n",
        "\n",
        "#### *`What is done:`*\n",
        "\n",
        "- *Read the last extraction timestamp from a tracking file (`last_extraction.txt`).*\n",
        "\n",
        "- *Load the entire dataset.*\n",
        "\n",
        "- *Filter the dataset to include only records with a `last_updated` timestamp newer than the last extraction time.*\n",
        "\n",
        "- *Show how many new/updated rows were extracted.*\n"
      ]
    },
    {
      "cell_type": "markdown",
      "id": "6eeb5115-1f14-4e68-b43a-cd924ca90b56",
      "metadata": {},
      "source": [
        "#### `1. Create the tracking file: last_extraction.txt`\n",
        "\n",
        "- *This file stores the timestamp of the last extraction, so the incremental process knows where to pick up.*\n",
        "\n"
      ]
    },
    {
      "cell_type": "code",
      "execution_count": 37,
      "id": "f2496e1c-86dc-4672-beb4-dc70b687387e",
      "metadata": {
        "trusted": true
      },
      "outputs": [],
      "source": [
        "with open(\"last_extraction.txt\", \"w\") as f:\n",
        "    f.write(\"2025-04-20 12:00:00\")"
      ]
    },
    {
      "cell_type": "markdown",
      "id": "4f1bfc78-1473-44af-b432-09cfd8da34f4",
      "metadata": {},
      "source": [
        "#### `2.Perform Incremental Extraction`\n",
        "- Read the last extraction timestamp from the tracking file."
      ]
    },
    {
      "cell_type": "code",
      "execution_count": 38,
      "id": "cb6cc4a2-a75a-475e-9f78-e42486487e6c",
      "metadata": {
        "trusted": true
      },
      "outputs": [],
      "source": [
        "# INCREMENTAL EXTRACTION\n",
        "with open(\"last_extraction.txt\", \"r\") as f:\n",
        "    last_extraction = f.read().strip()"
      ]
    },
    {
      "cell_type": "markdown",
      "id": "0975024a",
      "metadata": {},
      "source": [
        "#### *Load full dataset with date parsing and Converting to datetime*"
      ]
    },
    {
      "cell_type": "code",
      "execution_count": 39,
      "id": "ab7dae66-d3f9-48ff-a1f6-486cf0d282ba",
      "metadata": {
        "trusted": true
      },
      "outputs": [],
      "source": [
        "df = pd.read_csv(\"car_sales_data_may_2025.csv\", parse_dates=[\"last_updated\"])\n",
        "last_extraction_time = pd.to_datetime(last_extraction)"
      ]
    },
    {
      "cell_type": "markdown",
      "id": "c9cdf2e0",
      "metadata": {},
      "source": [
        "####  *Filter new or updated records since last extraction*"
      ]
    },
    {
      "cell_type": "code",
      "execution_count": 40,
      "id": "ff94b075-9574-40d5-958b-88ebc5d30555",
      "metadata": {
        "trusted": true
      },
      "outputs": [
        {
          "name": "stdout",
          "output_type": "stream",
          "text": [
            "Pulled 183 new/updated rows since 2025-04-20 12:00:00.\n"
          ]
        },
        {
          "data": {
            "text/html": [
              "<div>\n",
              "<style scoped>\n",
              "    .dataframe tbody tr th:only-of-type {\n",
              "        vertical-align: middle;\n",
              "    }\n",
              "\n",
              "    .dataframe tbody tr th {\n",
              "        vertical-align: top;\n",
              "    }\n",
              "\n",
              "    .dataframe thead th {\n",
              "        text-align: right;\n",
              "    }\n",
              "</style>\n",
              "<table border=\"1\" class=\"dataframe\">\n",
              "  <thead>\n",
              "    <tr style=\"text-align: right;\">\n",
              "      <th></th>\n",
              "      <th>id</th>\n",
              "      <th>customer</th>\n",
              "      <th>date</th>\n",
              "      <th>car_make</th>\n",
              "      <th>car_model</th>\n",
              "      <th>year</th>\n",
              "      <th>mileage</th>\n",
              "      <th>price</th>\n",
              "      <th>payment_type</th>\n",
              "      <th>last_updated</th>\n",
              "    </tr>\n",
              "  </thead>\n",
              "  <tbody>\n",
              "    <tr>\n",
              "      <th>76</th>\n",
              "      <td>29028</td>\n",
              "      <td>Penske Automotive</td>\n",
              "      <td>2025-04-20</td>\n",
              "      <td>Chevrolet</td>\n",
              "      <td>Cruze</td>\n",
              "      <td>2020</td>\n",
              "      <td>76406</td>\n",
              "      <td>9328</td>\n",
              "      <td>Credit</td>\n",
              "      <td>2025-04-20 17:15:00</td>\n",
              "    </tr>\n",
              "    <tr>\n",
              "      <th>77</th>\n",
              "      <td>46425</td>\n",
              "      <td>Sonic Automotive</td>\n",
              "      <td>2025-04-21</td>\n",
              "      <td>Honda</td>\n",
              "      <td>Civic</td>\n",
              "      <td>2018</td>\n",
              "      <td>17326</td>\n",
              "      <td>10482</td>\n",
              "      <td>Cash</td>\n",
              "      <td>2025-04-21 07:13:00</td>\n",
              "    </tr>\n",
              "    <tr>\n",
              "      <th>78</th>\n",
              "      <td>19893</td>\n",
              "      <td>Lithia Motors</td>\n",
              "      <td>2025-04-21</td>\n",
              "      <td>Chevrolet</td>\n",
              "      <td>Equinox</td>\n",
              "      <td>2020</td>\n",
              "      <td>14532</td>\n",
              "      <td>14172</td>\n",
              "      <td>Credit</td>\n",
              "      <td>2025-04-21 01:48:00</td>\n",
              "    </tr>\n",
              "    <tr>\n",
              "      <th>79</th>\n",
              "      <td>28699</td>\n",
              "      <td>Penske Automotive</td>\n",
              "      <td>2025-04-21</td>\n",
              "      <td>Ford</td>\n",
              "      <td>Fusion</td>\n",
              "      <td>2017</td>\n",
              "      <td>98981</td>\n",
              "      <td>22094</td>\n",
              "      <td>Cash</td>\n",
              "      <td>2025-04-21 23:36:00</td>\n",
              "    </tr>\n",
              "    <tr>\n",
              "      <th>80</th>\n",
              "      <td>17534</td>\n",
              "      <td>AutoNation</td>\n",
              "      <td>2025-04-21</td>\n",
              "      <td>Chevrolet</td>\n",
              "      <td>Cruze</td>\n",
              "      <td>2015</td>\n",
              "      <td>115453</td>\n",
              "      <td>5713</td>\n",
              "      <td>Cash</td>\n",
              "      <td>2025-04-21 00:26:00</td>\n",
              "    </tr>\n",
              "  </tbody>\n",
              "</table>\n",
              "</div>"
            ],
            "text/plain": [
              "       id           customer        date   car_make car_model  year  mileage  \\\n",
              "76  29028  Penske Automotive  2025-04-20  Chevrolet     Cruze  2020    76406   \n",
              "77  46425   Sonic Automotive  2025-04-21      Honda     Civic  2018    17326   \n",
              "78  19893      Lithia Motors  2025-04-21  Chevrolet   Equinox  2020    14532   \n",
              "79  28699  Penske Automotive  2025-04-21       Ford    Fusion  2017    98981   \n",
              "80  17534         AutoNation  2025-04-21  Chevrolet     Cruze  2015   115453   \n",
              "\n",
              "    price payment_type        last_updated  \n",
              "76   9328       Credit 2025-04-20 17:15:00  \n",
              "77  10482         Cash 2025-04-21 07:13:00  \n",
              "78  14172       Credit 2025-04-21 01:48:00  \n",
              "79  22094         Cash 2025-04-21 23:36:00  \n",
              "80   5713         Cash 2025-04-21 00:26:00  "
            ]
          },
          "execution_count": 40,
          "metadata": {},
          "output_type": "execute_result"
        }
      ],
      "source": [
        "df_incremental = df[df['last_updated'] > last_extraction_time]\n",
        "print(f\"Pulled {len(df_incremental)} new/updated rows since {last_extraction}.\")\n",
        "df_incremental.head()"
      ]
    },
    {
      "cell_type": "code",
      "execution_count": null,
      "id": "1486f1ed",
      "metadata": {},
      "outputs": [
        {
          "name": "stdout",
          "output_type": "stream",
          "text": [
            "Incremental extraction output saved as 'incremental_extraction_output.csv'.\n"
          ]
        }
      ],
      "source": [
        "# Save incremental extraction results to CSV\n",
        "df_incremental.to_csv('incremental_extraction_output.csv', index=False)\n",
        "print(\"Incremental extraction output saved as 'incremental_extraction_output.csv'.\")"
      ]
    },
    {
      "cell_type": "markdown",
      "id": "3a5428d2-aa59-47e4-9f9b-e7979ad50b3c",
      "metadata": {},
      "source": [
        "### `Update the last_extraction.txt`"
      ]
    },
    {
      "cell_type": "markdown",
      "id": "48301ffc",
      "metadata": {},
      "source": [
        "### *Incremental Extraction*\n",
        "\n",
        "- *First, we keep a note of the last time we checked for new data by saving a date and time in a file called `last_extraction.txt`.*\n",
        "- *Next, we look through the full data but only pick out the new or updated entries that happened after that saved date and time.*\n",
        "- *We then show a message telling how many new or updated records we found since the last time we checked.*\n",
        "\n",
        "### *Save New Timestamp*\n",
        "\n",
        "- *After getting the new data, we update the saved date and time in `last_extraction.txt` to mark the most recent check.*\n",
        "- *This helps us know where to start from next time so we only get new changes, not old data again.*\n"
      ]
    },
    {
      "cell_type": "code",
      "execution_count": null,
      "id": "2848b4bf-e045-4dfa-a974-97794f796725",
      "metadata": {
        "trusted": true
      },
      "outputs": [
        {
          "name": "stdout",
          "output_type": "stream",
          "text": [
            "Updated last_extraction.txt to 2025-05-31 23:57:00\n"
          ]
        }
      ],
      "source": [
        "# Get the most recent update\n",
        "new_checkpoint = df['last_updated'].max()\n",
        "# Save it\n",
        "\n",
        "with open(\"last_extraction.txt\", \"w\") as f:\n",
        "    f.write(new_checkpoint.isoformat())\n",
        "print(f\"Updated last_extraction.txt to {new_checkpoint}\")"
      ]
    }
  ],
  "metadata": {
    "kernelspec": {
      "display_name": "Python 3",
      "language": "python",
      "name": "python3"
    },
    "language_info": {
      "codemirror_mode": {
        "name": "ipython",
        "version": 3
      },
      "file_extension": ".py",
      "mimetype": "text/x-python",
      "name": "python",
      "nbconvert_exporter": "python",
      "pygments_lexer": "ipython3",
      "version": "3.13.4"
    }
  },
  "nbformat": 4,
  "nbformat_minor": 5
}
