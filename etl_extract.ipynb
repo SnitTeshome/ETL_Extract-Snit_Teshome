{
  "metadata": {
    "kernelspec": {
      "name": "python",
      "display_name": "Python (Pyodide)",
      "language": "python"
    },
    "language_info": {
      "codemirror_mode": {
        "name": "python",
        "version": 3
      },
      "file_extension": ".py",
      "mimetype": "text/x-python",
      "name": "python",
      "nbconvert_exporter": "python",
      "pygments_lexer": "ipython3",
      "version": "3.8"
    }
  },
  "nbformat_minor": 5,
  "nbformat": 4,
  "cells": [
    {
      "id": "7619bbc1-8d51-4e8a-9c47-6c5ba3a57e50",
      "cell_type": "markdown",
      "source": "# - LAB 3  Practicing Extraction in ETL",
      "metadata": {}
    },
    {
      "id": "65299ff2-6458-4a20-a3ff-5bc91a16c4c5",
      "cell_type": "markdown",
      "source": "#### Import libraries",
      "metadata": {}
    },
    {
      "id": "e2d111da-1dd2-40d7-8daa-476a80d99625",
      "cell_type": "code",
      "source": "import pandas as pd\nimport numpy as np\nfrom datetime import datetime, timedelta\nimport random",
      "metadata": {
        "trusted": true
      },
      "outputs": [],
      "execution_count": 2
    },
    {
      "id": "d1f24ce3-57f5-4c01-9c89-96ab6bf9dbeb",
      "cell_type": "markdown",
      "source": "### `STEP 1: Generate synthetic data`",
      "metadata": {}
    },
    {
      "id": "3c378bbc-6792-4bc0-bd9d-0de41813fb45",
      "cell_type": "code",
      "source": "# Sample customer list\ncustomers = ['Amazon', 'Walmart', 'Target', 'Costco', 'BestBuy', 'eBay']\n\ndata = []\nstart_date = datetime(2025, 4, 1)\n\n# Simulate 60 days of data (April 2 to May 31)\nfor i in range(1, 61):\n    date = start_date + timedelta(days=i)\n    for _ in range(random.randint(3, 6)):  # 3 to 6 sales per day\n        data.append({\n            'id': random.randint(10000, 99999),\n            'customer': random.choice(customers),\n            'date': date.date().isoformat(),\n            'amount': random.randint(100, 2000),\n            'last_updated': (date + timedelta(hours=random.randint(0, 23), \n                                              minutes=random.randint(0, 59)) ).isoformat()\n        })",
      "metadata": {
        "trusted": true
      },
      "outputs": [],
      "execution_count": 8
    },
    {
      "id": "e3f8bec1-2809-49f1-a589-649b67fb1e92",
      "cell_type": "markdown",
      "source": "####  Create DataFrame",
      "metadata": {}
    },
    {
      "id": "65fca598-ad72-4420-9661-2b70e5918042",
      "cell_type": "code",
      "source": "# Create DataFrame\ndf = pd.DataFrame(data)\n# Save to CSV\ndf.to_csv('sales_data_large.csv', index=False)\n\n# Show the first few rows\ndf.head(10)",
      "metadata": {
        "trusted": true
      },
      "outputs": [
        {
          "execution_count": 9,
          "output_type": "execute_result",
          "data": {
            "text/plain": "      id customer        date  amount         last_updated\n0  55249     eBay  2025-04-02    1574  2025-04-02T21:56:00\n1  44835   Amazon  2025-04-02    1612  2025-04-02T11:07:00\n2  38184   Amazon  2025-04-02    1662  2025-04-02T15:37:00\n3  99984   Target  2025-04-02    1452  2025-04-02T07:35:00\n4  28662  BestBuy  2025-04-02    1456  2025-04-02T10:53:00\n5  62267  BestBuy  2025-04-03     910  2025-04-03T13:51:00\n6  76256  Walmart  2025-04-03     392  2025-04-03T14:58:00\n7  20868   Target  2025-04-03    1767  2025-04-03T13:44:00\n8  38760  Walmart  2025-04-03     461  2025-04-03T17:01:00\n9  77604   Target  2025-04-03    1436  2025-04-03T03:23:00",
            "text/html": "<div>\n<style scoped>\n    .dataframe tbody tr th:only-of-type {\n        vertical-align: middle;\n    }\n\n    .dataframe tbody tr th {\n        vertical-align: top;\n    }\n\n    .dataframe thead th {\n        text-align: right;\n    }\n</style>\n<table border=\"1\" class=\"dataframe\">\n  <thead>\n    <tr style=\"text-align: right;\">\n      <th></th>\n      <th>id</th>\n      <th>customer</th>\n      <th>date</th>\n      <th>amount</th>\n      <th>last_updated</th>\n    </tr>\n  </thead>\n  <tbody>\n    <tr>\n      <th>0</th>\n      <td>55249</td>\n      <td>eBay</td>\n      <td>2025-04-02</td>\n      <td>1574</td>\n      <td>2025-04-02T21:56:00</td>\n    </tr>\n    <tr>\n      <th>1</th>\n      <td>44835</td>\n      <td>Amazon</td>\n      <td>2025-04-02</td>\n      <td>1612</td>\n      <td>2025-04-02T11:07:00</td>\n    </tr>\n    <tr>\n      <th>2</th>\n      <td>38184</td>\n      <td>Amazon</td>\n      <td>2025-04-02</td>\n      <td>1662</td>\n      <td>2025-04-02T15:37:00</td>\n    </tr>\n    <tr>\n      <th>3</th>\n      <td>99984</td>\n      <td>Target</td>\n      <td>2025-04-02</td>\n      <td>1452</td>\n      <td>2025-04-02T07:35:00</td>\n    </tr>\n    <tr>\n      <th>4</th>\n      <td>28662</td>\n      <td>BestBuy</td>\n      <td>2025-04-02</td>\n      <td>1456</td>\n      <td>2025-04-02T10:53:00</td>\n    </tr>\n    <tr>\n      <th>5</th>\n      <td>62267</td>\n      <td>BestBuy</td>\n      <td>2025-04-03</td>\n      <td>910</td>\n      <td>2025-04-03T13:51:00</td>\n    </tr>\n    <tr>\n      <th>6</th>\n      <td>76256</td>\n      <td>Walmart</td>\n      <td>2025-04-03</td>\n      <td>392</td>\n      <td>2025-04-03T14:58:00</td>\n    </tr>\n    <tr>\n      <th>7</th>\n      <td>20868</td>\n      <td>Target</td>\n      <td>2025-04-03</td>\n      <td>1767</td>\n      <td>2025-04-03T13:44:00</td>\n    </tr>\n    <tr>\n      <th>8</th>\n      <td>38760</td>\n      <td>Walmart</td>\n      <td>2025-04-03</td>\n      <td>461</td>\n      <td>2025-04-03T17:01:00</td>\n    </tr>\n    <tr>\n      <th>9</th>\n      <td>77604</td>\n      <td>Target</td>\n      <td>2025-04-03</td>\n      <td>1436</td>\n      <td>2025-04-03T03:23:00</td>\n    </tr>\n  </tbody>\n</table>\n</div>"
          },
          "metadata": {}
        }
      ],
      "execution_count": 9
    },
    {
      "id": "205a2968-56e8-4b2d-b110-bcc4413dc09f",
      "cell_type": "code",
      "source": "# Count number of unique days\nunique_days = df['date'].nunique()\n\nprint(f\"Number of unique days with sales records: {unique_days}\")\n",
      "metadata": {
        "trusted": true
      },
      "outputs": [
        {
          "name": "stdout",
          "output_type": "stream",
          "text": "Number of unique days with sales records: 60\n"
        }
      ],
      "execution_count": 12
    },
    {
      "id": "43d6b150-121e-4359-af22-d7c63ce44632",
      "cell_type": "markdown",
      "source": " ###  `Section 1: Full Extraction`",
      "metadata": {}
    },
    {
      "id": "b37d22be-27ca-4394-b3ba-a70cf12efec7",
      "cell_type": "code",
      "source": "# Load entire dataset\n# FULL EXTRACTION\ndf_full = pd.read_csv(\"sales_data_large.csv\", parse_dates=[\"last_updated\"])\nprint(f\"Pulled {len(df_full)} rows via full extraction.\")\ndf_full.head(10)",
      "metadata": {
        "trusted": true
      },
      "outputs": [
        {
          "name": "stdout",
          "output_type": "stream",
          "text": "Pulled 277 rows via full extraction.\n"
        },
        {
          "execution_count": 15,
          "output_type": "execute_result",
          "data": {
            "text/plain": "      id customer        date  amount        last_updated\n0  55249     eBay  2025-04-02    1574 2025-04-02 21:56:00\n1  44835   Amazon  2025-04-02    1612 2025-04-02 11:07:00\n2  38184   Amazon  2025-04-02    1662 2025-04-02 15:37:00\n3  99984   Target  2025-04-02    1452 2025-04-02 07:35:00\n4  28662  BestBuy  2025-04-02    1456 2025-04-02 10:53:00\n5  62267  BestBuy  2025-04-03     910 2025-04-03 13:51:00\n6  76256  Walmart  2025-04-03     392 2025-04-03 14:58:00\n7  20868   Target  2025-04-03    1767 2025-04-03 13:44:00\n8  38760  Walmart  2025-04-03     461 2025-04-03 17:01:00\n9  77604   Target  2025-04-03    1436 2025-04-03 03:23:00",
            "text/html": "<div>\n<style scoped>\n    .dataframe tbody tr th:only-of-type {\n        vertical-align: middle;\n    }\n\n    .dataframe tbody tr th {\n        vertical-align: top;\n    }\n\n    .dataframe thead th {\n        text-align: right;\n    }\n</style>\n<table border=\"1\" class=\"dataframe\">\n  <thead>\n    <tr style=\"text-align: right;\">\n      <th></th>\n      <th>id</th>\n      <th>customer</th>\n      <th>date</th>\n      <th>amount</th>\n      <th>last_updated</th>\n    </tr>\n  </thead>\n  <tbody>\n    <tr>\n      <th>0</th>\n      <td>55249</td>\n      <td>eBay</td>\n      <td>2025-04-02</td>\n      <td>1574</td>\n      <td>2025-04-02 21:56:00</td>\n    </tr>\n    <tr>\n      <th>1</th>\n      <td>44835</td>\n      <td>Amazon</td>\n      <td>2025-04-02</td>\n      <td>1612</td>\n      <td>2025-04-02 11:07:00</td>\n    </tr>\n    <tr>\n      <th>2</th>\n      <td>38184</td>\n      <td>Amazon</td>\n      <td>2025-04-02</td>\n      <td>1662</td>\n      <td>2025-04-02 15:37:00</td>\n    </tr>\n    <tr>\n      <th>3</th>\n      <td>99984</td>\n      <td>Target</td>\n      <td>2025-04-02</td>\n      <td>1452</td>\n      <td>2025-04-02 07:35:00</td>\n    </tr>\n    <tr>\n      <th>4</th>\n      <td>28662</td>\n      <td>BestBuy</td>\n      <td>2025-04-02</td>\n      <td>1456</td>\n      <td>2025-04-02 10:53:00</td>\n    </tr>\n    <tr>\n      <th>5</th>\n      <td>62267</td>\n      <td>BestBuy</td>\n      <td>2025-04-03</td>\n      <td>910</td>\n      <td>2025-04-03 13:51:00</td>\n    </tr>\n    <tr>\n      <th>6</th>\n      <td>76256</td>\n      <td>Walmart</td>\n      <td>2025-04-03</td>\n      <td>392</td>\n      <td>2025-04-03 14:58:00</td>\n    </tr>\n    <tr>\n      <th>7</th>\n      <td>20868</td>\n      <td>Target</td>\n      <td>2025-04-03</td>\n      <td>1767</td>\n      <td>2025-04-03 13:44:00</td>\n    </tr>\n    <tr>\n      <th>8</th>\n      <td>38760</td>\n      <td>Walmart</td>\n      <td>2025-04-03</td>\n      <td>461</td>\n      <td>2025-04-03 17:01:00</td>\n    </tr>\n    <tr>\n      <th>9</th>\n      <td>77604</td>\n      <td>Target</td>\n      <td>2025-04-03</td>\n      <td>1436</td>\n      <td>2025-04-03 03:23:00</td>\n    </tr>\n  </tbody>\n</table>\n</div>"
          },
          "metadata": {}
        }
      ],
      "execution_count": 15
    },
    {
      "id": "13bc5e5e-ef04-432c-97a5-5051d8ad9cb0",
      "cell_type": "markdown",
      "source": "### `Section 2: Incremental Extraction`",
      "metadata": {}
    },
    {
      "id": "6eeb5115-1f14-4e68-b43a-cd924ca90b56",
      "cell_type": "markdown",
      "source": "#### `1. Create the tracking file: last_extraction.txt`\n\n",
      "metadata": {}
    },
    {
      "id": "f2496e1c-86dc-4672-beb4-dc70b687387e",
      "cell_type": "code",
      "source": "with open(\"last_extraction.txt\", \"w\") as f:\n    f.write(\"2025-04-20 12:00:00\")",
      "metadata": {
        "trusted": true
      },
      "outputs": [],
      "execution_count": 17
    },
    {
      "id": "4f1bfc78-1473-44af-b432-09cfd8da34f4",
      "cell_type": "markdown",
      "source": "#### `2.Perform Incremental Extraction`",
      "metadata": {}
    },
    {
      "id": "cb6cc4a2-a75a-475e-9f78-e42486487e6c",
      "cell_type": "code",
      "source": "# INCREMENTAL EXTRACTION\nwith open(\"last_extraction.txt\", \"r\") as f:\n    last_extraction = f.read().strip()",
      "metadata": {
        "trusted": true
      },
      "outputs": [],
      "execution_count": 18
    },
    {
      "id": "ab7dae66-d3f9-48ff-a1f6-486cf0d282ba",
      "cell_type": "code",
      "source": "df = pd.read_csv(\"sales_data_large.csv\", parse_dates=[\"last_updated\"])\nlast_extraction_time = pd.to_datetime(last_extraction)",
      "metadata": {
        "trusted": true
      },
      "outputs": [],
      "execution_count": 20
    },
    {
      "id": "ff94b075-9574-40d5-958b-88ebc5d30555",
      "cell_type": "code",
      "source": "df_incremental = df[df['last_updated'] > last_extraction_time]\nprint(f\"Pulled {len(df_incremental)} new/updated rows since {last_extraction}.\")\ndf_incremental.head()",
      "metadata": {
        "trusted": true
      },
      "outputs": [
        {
          "name": "stdout",
          "output_type": "stream",
          "text": "Pulled 189 new/updated rows since 2025-04-20 12:00:00.\n"
        },
        {
          "execution_count": 22,
          "output_type": "execute_result",
          "data": {
            "text/plain": "       id customer        date  amount        last_updated\n86  61193   Amazon  2025-04-20     143 2025-04-20 19:09:00\n89  97734  Walmart  2025-04-20     876 2025-04-20 23:30:00\n90  27954   Amazon  2025-04-21     874 2025-04-21 14:01:00\n91  88241  Walmart  2025-04-21    1107 2025-04-21 09:23:00\n92  89473   Target  2025-04-21     388 2025-04-21 05:33:00",
            "text/html": "<div>\n<style scoped>\n    .dataframe tbody tr th:only-of-type {\n        vertical-align: middle;\n    }\n\n    .dataframe tbody tr th {\n        vertical-align: top;\n    }\n\n    .dataframe thead th {\n        text-align: right;\n    }\n</style>\n<table border=\"1\" class=\"dataframe\">\n  <thead>\n    <tr style=\"text-align: right;\">\n      <th></th>\n      <th>id</th>\n      <th>customer</th>\n      <th>date</th>\n      <th>amount</th>\n      <th>last_updated</th>\n    </tr>\n  </thead>\n  <tbody>\n    <tr>\n      <th>86</th>\n      <td>61193</td>\n      <td>Amazon</td>\n      <td>2025-04-20</td>\n      <td>143</td>\n      <td>2025-04-20 19:09:00</td>\n    </tr>\n    <tr>\n      <th>89</th>\n      <td>97734</td>\n      <td>Walmart</td>\n      <td>2025-04-20</td>\n      <td>876</td>\n      <td>2025-04-20 23:30:00</td>\n    </tr>\n    <tr>\n      <th>90</th>\n      <td>27954</td>\n      <td>Amazon</td>\n      <td>2025-04-21</td>\n      <td>874</td>\n      <td>2025-04-21 14:01:00</td>\n    </tr>\n    <tr>\n      <th>91</th>\n      <td>88241</td>\n      <td>Walmart</td>\n      <td>2025-04-21</td>\n      <td>1107</td>\n      <td>2025-04-21 09:23:00</td>\n    </tr>\n    <tr>\n      <th>92</th>\n      <td>89473</td>\n      <td>Target</td>\n      <td>2025-04-21</td>\n      <td>388</td>\n      <td>2025-04-21 05:33:00</td>\n    </tr>\n  </tbody>\n</table>\n</div>"
          },
          "metadata": {}
        }
      ],
      "execution_count": 22
    },
    {
      "id": "3a5428d2-aa59-47e4-9f9b-e7979ad50b3c",
      "cell_type": "markdown",
      "source": "### `Update the last_extraction.txt`",
      "metadata": {}
    },
    {
      "id": "c8dba807-6d97-43c3-8d34-4b231815bef0",
      "cell_type": "markdown",
      "source": "#### After a successful extraction, update the checkpoint:",
      "metadata": {}
    },
    {
      "id": "2848b4bf-e045-4dfa-a974-97794f796725",
      "cell_type": "code",
      "source": "# Get the most recent update\nnew_checkpoint = df['last_updated'].max()\n# Save it\nwith open(\"last_extraction.txt\", \"w\") as f:\n    f.write(new_checkpoint.isoformat())\nprint(f\"Updated last_extraction.txt to {new_checkpoint}\")",
      "metadata": {
        "trusted": true
      },
      "outputs": [
        {
          "name": "stdout",
          "output_type": "stream",
          "text": "Updated last_extraction.txt to 2025-05-31 19:16:00\n"
        }
      ],
      "execution_count": 23
    }
  ]
}